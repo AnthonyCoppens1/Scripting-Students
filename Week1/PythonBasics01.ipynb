{
 "cells": [
  {
   "cell_type": "markdown",
   "metadata": {},
   "source": [
    "# Python basics: class 13/02"
   ]
  },
  {
   "cell_type": "code",
   "execution_count": 31,
   "metadata": {},
   "outputs": [
    {
     "name": "stdout",
     "output_type": "stream",
     "text": [
      "Hello, world!\n"
     ]
    }
   ],
   "source": [
    "print(\"Hello, world!\")"
   ]
  },
  {
   "cell_type": "markdown",
   "metadata": {},
   "source": [
    "## Inputs & outputs\n",
    "Conversion between types\n",
    "- int --> integer\n",
    "- float --> decimal number\n",
    "- str --> string = text!"
   ]
  },
  {
   "cell_type": "code",
   "execution_count": 32,
   "metadata": {},
   "outputs": [
    {
     "name": "stdout",
     "output_type": "stream",
     "text": [
      "12\n",
      "value of x: 12\n",
      "<class 'str'>\n",
      "12\n",
      "<class 'int'>\n",
      "12.0\n",
      "<class 'float'>\n",
      "\n",
      "<class 'float'>\n",
      "12.0\n",
      "<class 'float'>\n",
      "\n",
      "<class 'str'>\n"
     ]
    }
   ],
   "source": [
    "# find the sign of x\n",
    "\n",
    "x = input(\"Give me a number! \")\n",
    "print(x)\n",
    "print(\"value of x:\",  x)\n",
    "print(type(x))\n",
    "\n",
    "# converting from one datatype to another\n",
    "int_number = int(x)\n",
    "print(int_number)\n",
    "print(type(int_number))\n",
    "\n",
    "dec_number = float(x)\n",
    "print(dec_number)\n",
    "print(type(dec_number))\n",
    "\n",
    "# converting from original or from converted variable\n",
    "print()\n",
    "testnumber = float(int_number)\n",
    "print(type(testnumber))\n",
    "\n",
    "# this remains the same datatype\n",
    "print(str(testnumber))\n",
    "print(type(testnumber))\n",
    "\n",
    "\n",
    "print()\n",
    "#this actually checks the changed datatype, but doesn't permanently change it\n",
    "print(type(str(testnumber)))"
   ]
  },
  {
   "cell_type": "markdown",
   "metadata": {},
   "source": [
    "## Combining outputs --> concatenation\n",
    "\n",
    "- '+' --> conbines 2 strings or 2 odd numbers / you have to provide a space and in case of strings everything has to a be string.\n",
    "- ',' --> provides a space for us and it allows us to use different datatypes together in a print-function"
   ]
  },
  {
   "cell_type": "code",
   "execution_count": 33,
   "metadata": {},
   "outputs": [
    {
     "name": "stdout",
     "output_type": "stream",
     "text": [
      "The number is 5\n",
      "10\n",
      "The number is 5\n",
      "55\n",
      "10\n"
     ]
    }
   ],
   "source": [
    "number = 5\n",
    "print(\"The number is\", number)\n",
    "print(number + number) # 10\n",
    "print(\"The number is \" + str(number))\n",
    "print(str(number) + str(number)) # 55\n",
    "print(str(number + number)) # 10\n"
   ]
  },
  {
   "cell_type": "markdown",
   "metadata": {},
   "source": [
    "## Expressions\n",
    "### Arthmetic operations"
   ]
  },
  {
   "cell_type": "code",
   "execution_count": 36,
   "metadata": {},
   "outputs": [
    {
     "name": "stdout",
     "output_type": "stream",
     "text": [
      "15 8\n",
      "23\n",
      "<class 'float'>\n",
      "<class 'int'>\n",
      "13\n",
      "7\n",
      "30\n",
      "3.3333333333333335\n",
      "3\n",
      "1\n",
      "1000\n"
     ]
    }
   ],
   "source": [
    "x = 15\n",
    "y = 8\n",
    "\n",
    "#mind the difference in how you print if you want to check the values\n",
    "\n",
    "print(x,y) #prints both values\n",
    "print(x + y) # adds them up\n",
    "\n",
    "#change or assign multiple values at the same time\n",
    "x,y = 10,3\n",
    "\n",
    "a,b = 10.3,7\n",
    "print(type(a))\n",
    "print(type(b))\n",
    "\n",
    "\n",
    "print(x+y) #13\n",
    "print(x-y) #7\n",
    "print(x*y) #30\n",
    "print(x/y) #3.333333\n",
    "print(x//y) #3 --> integer division (divides in equal groups without adding the remainder)\n",
    "print(x%y) #1 --> remainder\n",
    "print(x**y) #1000 -->power"
   ]
  },
  {
   "cell_type": "markdown",
   "metadata": {},
   "source": [
    "### Assignment operators"
   ]
  },
  {
   "cell_type": "code",
   "execution_count": 46,
   "metadata": {},
   "outputs": [
    {
     "name": "stdout",
     "output_type": "stream",
     "text": [
      "13 <class 'int'>\n",
      "10 <class 'int'>\n",
      "30 <class 'int'>\n",
      "10.0 <class 'float'>\n",
      "3.0 <class 'float'>\n",
      "1 <class 'int'>\n"
     ]
    }
   ],
   "source": [
    "x,y = 10,3\n",
    "\n",
    "x += y; print(x,type(x)) #13\n",
    "x -= y; print(x, type(x)) #10\n",
    "x *= y; print(x, type(x)) #30\n",
    "x /= y; print(x, type(x)) #10.0\n",
    "x //= y; print(x, type(x)) #3.0\n",
    "\n",
    "x = 10\n",
    "x %= y; print(x, type(x)) #1\n",
    "\n",
    "x = 10\n",
    "x **= y; print(x, type(x)) #1000\n",
    "\n",
    "# x++ --> not available\n",
    "x += 1 #translation of x++"
   ]
  },
  {
   "cell_type": "markdown",
   "metadata": {},
   "source": [
    "### Python build-in functions\n",
    "https://www.w3schools.com/python/python_ref_functions.asp"
   ]
  },
  {
   "cell_type": "code",
   "execution_count": 64,
   "metadata": {},
   "outputs": [
    {
     "name": "stdout",
     "output_type": "stream",
     "text": [
      "Some text\n",
      "SOME TEXT\n",
      "some text\n",
      "som3 t3xt\n",
      "some YexY\n",
      "bird text\n",
      "some Yext\n",
      "5.1235421\n",
      "-5.1235\n"
     ]
    }
   ],
   "source": [
    "text = \"some text\"\n",
    "print(text.capitalize())\n",
    "print(text.upper())\n",
    "print(text.lower())\n",
    "print(text.replace(\"e\", \"3\"))\n",
    "print(text.replace(\"t\", \"Y\"))\n",
    "print(text.replace(\"some\", \"bird\")) # it has to be in the correct order, omes doesn't work\n",
    "print(text.replace(\"t\", \"Y\",1))\n",
    "\n",
    "x = -5.1235421\n",
    "print(abs(x))\n",
    "print(round(x,4))"
   ]
  },
  {
   "cell_type": "markdown",
   "metadata": {},
   "source": [
    "## Conditional statements\n",
    "if-statements\n",
    "\n",
    "ZERO IS EVEN --> reminder from class --> infinitely divisible by 2"
   ]
  },
  {
   "cell_type": "code",
   "execution_count": 71,
   "metadata": {},
   "outputs": [
    {
     "name": "stdout",
     "output_type": "stream",
     "text": [
      "0 is zero\n",
      "0 is zero\n",
      "0 is zero\n",
      "0 is even\n"
     ]
    }
   ],
   "source": [
    "#find the sign of the number (+ - 0)\n",
    "#input() is always a string, therefore you have to convert\n",
    "\n",
    "x = int(input(\"Enter a number: \"))\n",
    "#x = int(x)\n",
    "\n",
    "if x > 0:\n",
    "    print(x, \"is positive\")\n",
    "elif x < 0:\n",
    "    print(x, \"is negative\")\n",
    "else:\n",
    "    print(x, \"is zero\")\n",
    "\n",
    "#other implementation\n",
    "if x == 0:\n",
    "    print(x, \"is zero\")\n",
    "elif x > 0:\n",
    "    print(x, \"is positive\")\n",
    "else:\n",
    "    print(x, \"is negative\")\n",
    "\n",
    "#and another implementation\n",
    "if x != 0:\n",
    "    if x > 0:\n",
    "        print(x, \"is positive\")\n",
    "    else:\n",
    "        print(x, \"is negative\")\n",
    "else:\n",
    "    print(x, \"is zero\")\n",
    " \n",
    "\n",
    "#determine whether a number is even or odd\n",
    "# zero is even\n",
    "if x % 2 == 0:\n",
    "    print(x, \"is even\")\n",
    "else:\n",
    "    print(x, \"is odd\")"
   ]
  },
  {
   "cell_type": "markdown",
   "metadata": {},
   "source": [
    "### some more exercises\n",
    "\n",
    "- write an if-statement that checks if a person is eligible to vote based on their current age. Calculated with year of birth. Person older than or 18 --> \"Eligible to vote\" / \"NOT eligible to vote\"\n",
    "\n",
    "- check if a string is empty or not --> \"String is empty\" / \"String is NOT empty\"\n",
    "\n",
    "- check if a password is secure --> >= 8 characters AND contain both letter and numbers --> \"Password is secure\" / \"Password is NOT secure\""
   ]
  },
  {
   "cell_type": "code",
   "execution_count": 72,
   "metadata": {},
   "outputs": [
    {
     "name": "stdout",
     "output_type": "stream",
     "text": [
      "29\n"
     ]
    }
   ],
   "source": [
    "from datetime import datetime as dt\n",
    "year = int(input(\"Enter the year of birth: \"))\n",
    "age = dt.now().year - year\n",
    "#print(age)\n",
    "\n",
    "if age >= 18:\n",
    "    print(\"Eligible to vote\")\n",
    "else:\n",
    "    print(\"NOT eligible to vote\")"
   ]
  },
  {
   "cell_type": "code",
   "execution_count": 77,
   "metadata": {},
   "outputs": [
    {
     "name": "stdout",
     "output_type": "stream",
     "text": [
      "string is NOT empty\n"
     ]
    }
   ],
   "source": [
    "string = input(\"Give a string: \")\n",
    "if not string: #pythonic way of coding\n",
    "    print(\"string is empty\")\n",
    "else:\n",
    "    print(\"string is NOT empty\")"
   ]
  },
  {
   "cell_type": "markdown",
   "metadata": {},
   "source": [
    "build-in methods that you can use on strings\n",
    "https://www.w3schools.com/python/python_ref_string.asp"
   ]
  },
  {
   "cell_type": "code",
   "execution_count": 80,
   "metadata": {},
   "outputs": [
    {
     "name": "stdout",
     "output_type": "stream",
     "text": [
      "AnthonyIsCool!\n",
      "The password is NOT secure\n"
     ]
    }
   ],
   "source": [
    "charcheck = input(\"Give me sentence: \")\n",
    "if len(charcheck) >= 8 and any(char.isdigit() for char in charcheck) and any(char.isalpha for char in charcheck):\n",
    "    print(\"The password is secure\")\n",
    "else:\n",
    "    print(\"The password is NOT secure\")"
   ]
  },
  {
   "cell_type": "markdown",
   "metadata": {},
   "source": [
    "## Loops\n",
    "- **for-loop**: iterating over a sequence or a range, you know how many times you need to loop\n",
    "- **while-loop**: as long as a condition returns true, no idea how long"
   ]
  },
  {
   "cell_type": "code",
   "execution_count": 82,
   "metadata": {},
   "outputs": [
    {
     "name": "stdout",
     "output_type": "stream",
     "text": [
      "a\n",
      " \n",
      "w\n",
      "o\n",
      "r\n",
      "d\n",
      "a   w o r d "
     ]
    }
   ],
   "source": [
    "#a word is also a sequence\n",
    "for c in \"a word\":\n",
    "    print(c)\n",
    "\n",
    "for c in \"a word\":\n",
    "    print(c, end = \" \") # space behind every char"
   ]
  },
  {
   "cell_type": "code",
   "execution_count": 87,
   "metadata": {},
   "outputs": [
    {
     "name": "stdout",
     "output_type": "stream",
     "text": [
      "-5\n",
      "-4\n",
      "-3\n",
      "-2\n",
      "-1\n",
      "0\n",
      "1\n",
      "2\n",
      "3\n",
      "4\n",
      "5 * 0 = 0\n",
      "5 * 1 = 5\n",
      "5 * 2 = 10\n",
      "5 * 3 = 15\n",
      "5 * 4 = 20\n",
      "5 * 5 = 25\n",
      "5 * 6 = 30\n",
      "5 * 7 = 35\n",
      "5 * 8 = 40\n",
      "5 * 9 = 45\n",
      "5 * 10 = 50\n"
     ]
    }
   ],
   "source": [
    "for x in range(-5,5): # 5 is not included\n",
    "    print(x)\n",
    "\n",
    "for x in range(0,11):\n",
    "    print(\"5 *\", x, \"=\", x*5)"
   ]
  },
  {
   "cell_type": "code",
   "execution_count": 94,
   "metadata": {},
   "outputs": [
    {
     "name": "stdout",
     "output_type": "stream",
     "text": [
      "25 125 625 3125 15625 \n",
      "5 25 125 625 3125 "
     ]
    }
   ],
   "source": [
    "value = input(\"Enter something, stop with 'STOP'\")\n",
    "while value != \"STOP\":\n",
    "    value = input(\"Enter something, stop with 'STOP'\")\n",
    "\n",
    "\n",
    "x = 5\n",
    "while x <= 10000:\n",
    "    x *= 5\n",
    "    print(x, end = \" \")\n",
    "\n",
    "print()\n",
    "x = 5\n",
    "while x <= 10000:\n",
    "    print(x, end = \" \")\n",
    "    x *= 5\n"
   ]
  },
  {
   "cell_type": "markdown",
   "metadata": {},
   "source": [
    "## Combining conditions\n",
    "- **and**: both conditions are met\n",
    "- **or**: at least one condition is met\n",
    "- **not**: reverse of the condition"
   ]
  },
  {
   "cell_type": "code",
   "execution_count": 103,
   "metadata": {},
   "outputs": [
    {
     "name": "stdout",
     "output_type": "stream",
     "text": [
      "True\n",
      "True\n",
      "False\n",
      "False\n",
      "False\n",
      "True\n",
      "True\n",
      "False\n"
     ]
    }
   ],
   "source": [
    "x,y,z = 1,2,3\n",
    "\n",
    "print(x < y and y < z) #true\n",
    "print(x < y or y < z) #true\n",
    "print(x > y or y > z) #false\n",
    "print(x > y and y > z) #false\n",
    "\n",
    "print(x < y and y > z) #false\n",
    "print(x < y or y > z) #true\n",
    "\n",
    "print(not(x < y and y > z)) #true\n",
    "print(not(x < y or y > z)) #false"
   ]
  }
 ],
 "metadata": {
  "kernelspec": {
   "display_name": "Python 3",
   "language": "python",
   "name": "python3"
  },
  "language_info": {
   "codemirror_mode": {
    "name": "ipython",
    "version": 3
   },
   "file_extension": ".py",
   "mimetype": "text/x-python",
   "name": "python",
   "nbconvert_exporter": "python",
   "pygments_lexer": "ipython3",
   "version": "3.11.8"
  }
 },
 "nbformat": 4,
 "nbformat_minor": 2
}
