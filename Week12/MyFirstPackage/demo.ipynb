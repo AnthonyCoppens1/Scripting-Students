{
 "cells": [
  {
   "cell_type": "code",
   "execution_count": 2,
   "metadata": {},
   "outputs": [
    {
     "name": "stdout",
     "output_type": "stream",
     "text": [
      "80% match\n",
      "15.0% match\n"
     ]
    }
   ],
   "source": [
    "from mypackage import love\n",
    "print(love.calculate(\"Margot Robbie\", \"Leonardo Dicaprio\"))\n",
    "print(love.calculate2(\"Anthony\", \"Collin\"))"
   ]
  },
  {
   "cell_type": "code",
   "execution_count": null,
   "metadata": {},
   "outputs": [],
   "source": [
    "from mypackage import donkey\n",
    "donkey.play()"
   ]
  },
  {
   "cell_type": "code",
   "execution_count": null,
   "metadata": {},
   "outputs": [],
   "source": [
    "import mypackage\n",
    "love.calculate(\"test\", \"test\")\n",
    "print(help(love))\n",
    "print(help(donkey.play))"
   ]
  },
  {
   "cell_type": "code",
   "execution_count": 9,
   "metadata": {},
   "outputs": [
    {
     "name": "stdout",
     "output_type": "stream",
     "text": [
      "Hello world\n",
      "Hello Anthony\n",
      "sum 12\n",
      "average 6.0\n",
      "power 78125\n"
     ]
    }
   ],
   "source": [
    "from mypackage import simple\n",
    "\n",
    "simple.helloworld()\n",
    "simple.helloname(\"Anthony\")\n",
    "print(\"sum\", simple.sum(5,7))\n",
    "print(\"average\", simple.average(5,7))\n",
    "print(\"power\", simple.power(5,7))"
   ]
  }
 ],
 "metadata": {
  "kernelspec": {
   "display_name": "Python 3",
   "language": "python",
   "name": "python3"
  },
  "language_info": {
   "codemirror_mode": {
    "name": "ipython",
    "version": 3
   },
   "file_extension": ".py",
   "mimetype": "text/x-python",
   "name": "python",
   "nbconvert_exporter": "python",
   "pygments_lexer": "ipython3",
   "version": "3.11.9"
  }
 },
 "nbformat": 4,
 "nbformat_minor": 2
}
