{
 "cells": [
  {
   "cell_type": "markdown",
   "metadata": {},
   "source": [
    "# Databases - week11\n",
    "install package: mysql-connector-python"
   ]
  },
  {
   "cell_type": "code",
   "execution_count": 1,
   "metadata": {},
   "outputs": [
    {
     "name": "stdout",
     "output_type": "stream",
     "text": [
      "Requirement already satisfied: mysql-connector-python in c:\\users\\antho\\appdata\\local\\packages\\pythonsoftwarefoundation.python.3.11_qbz5n2kfra8p0\\localcache\\local-packages\\python311\\site-packages (8.4.0)\n"
     ]
    }
   ],
   "source": [
    "! pip install mysql-connector-python"
   ]
  },
  {
   "cell_type": "markdown",
   "metadata": {},
   "source": [
    "## Connectie maken met een databank"
   ]
  },
  {
   "cell_type": "code",
   "execution_count": 2,
   "metadata": {},
   "outputs": [
    {
     "name": "stdout",
     "output_type": "stream",
     "text": [
      "movies_db\n"
     ]
    }
   ],
   "source": [
    "import mysql.connector\n",
    "\n",
    "dbconnection = mysql.connector.connect(\n",
    "    host = \"localhost\",\n",
    "    user = \"root\",\n",
    "    password = \"\",\n",
    "    database = \"movies_db\"\n",
    ")\n",
    "\n",
    "cursor = dbconnection.cursor()\n",
    "\n",
    "print(dbconnection.database)\n",
    "cursor.close()\n",
    "dbconnection.close()"
   ]
  },
  {
   "cell_type": "markdown",
   "metadata": {},
   "source": [
    "## CREATE OPERATION"
   ]
  },
  {
   "cell_type": "code",
   "execution_count": 3,
   "metadata": {},
   "outputs": [],
   "source": [
    "import mysql.connector\n",
    "\n",
    "dbconnection = mysql.connector.connect(\n",
    "    host = \"localhost\",\n",
    "    user = \"root\",\n",
    "    password = \"\",\n",
    "    database = \"movies_db\"\n",
    ")\n",
    "\n",
    "cursor = dbconnection.cursor()\n",
    "query = \"INSERT INTO actors(name) VALUES ('Kevin Hart')\"\n",
    "cursor.execute(query)\n",
    "dbconnection.commit()\n",
    "\n",
    "cursor.close()\n",
    "dbconnection.close()"
   ]
  },
  {
   "cell_type": "code",
   "execution_count": 5,
   "metadata": {},
   "outputs": [],
   "source": [
    "import mysql.connector\n",
    "\n",
    "dbconnection = mysql.connector.connect(\n",
    "    host = \"localhost\",\n",
    "    user = \"root\",\n",
    "    password = \"\",\n",
    "    database = \"movies_db\"\n",
    ")\n",
    "\n",
    "cursor = dbconnection.cursor()\n",
    "\n",
    "query = \"INSERT INTO actors(name) VALUES(%s)\"\n",
    "data = [[\"Leonardo Dicaprio\"], [\"Samuel L Jackson\"], [\"Margot Robbie\"], [\"Angelina Jolie\"], [\"Jennifer Aniston\"]]\n",
    "\n",
    "cursor.executemany(query, data)\n",
    "\n",
    "\n",
    "#ook mogelijks als je een categorie hebt in je db met meerdere waarden\n",
    "\n",
    "query = \"INSERT INTO movies(title, synopsis) VALUES (%s, %s)\"\n",
    "\n",
    "data = (\"The Matrix\", \"John wick time traveller\")\n",
    "cursor.execute(query, data)\n",
    "\n",
    "#met meerdere inputs voor meerdere categoriën\n",
    "\n",
    "movies = [(\"Inception\", \"Daydream Cilian Murphy, blauwe ogen\"),\n",
    "          (\"Interstellar\", \"louche planeten verkennen en dochter zien sterven, defying laws of physics\"),\n",
    "          (\"Jurassic Park\", \"Exerimental dinosaur zoo\"),\n",
    "          (\"Star Wars\", \"boerenjongen gaat bij de rebellen\")]\n",
    "\n",
    "#iedere film toevoegen\n",
    "for movie in movies:\n",
    "    cursor.execute(query, movie)\n",
    "\n",
    "dbconnection.commit()\n",
    "cursor.close()\n",
    "dbconnection.close()"
   ]
  },
  {
   "cell_type": "markdown",
   "metadata": {},
   "source": [
    "## READ OPERATION"
   ]
  },
  {
   "cell_type": "code",
   "execution_count": 14,
   "metadata": {},
   "outputs": [
    {
     "name": "stdout",
     "output_type": "stream",
     "text": [
      "[(1, 'Michelle Yeoh'), (2, 'Stephan James'), (3, 'Jamie Lee Curtis'), (4, 'Tom Cruise'), (5, 'Kevin Hart'), (6, 'Leonardo Dicaprio'), (7, 'Samuel L Jackson'), (8, 'Margot Robbie'), (9, 'Angelina Jolie'), (10, 'Jennifer Aniston')]\n",
      "(1, 'Michelle Yeoh')\n",
      "(2, 'Stephan James')\n",
      "(3, 'Jamie Lee Curtis')\n",
      "(4, 'Tom Cruise')\n",
      "(5, 'Kevin Hart')\n",
      "(6, 'Leonardo Dicaprio')\n",
      "(7, 'Samuel L Jackson')\n",
      "(8, 'Margot Robbie')\n",
      "(9, 'Angelina Jolie')\n",
      "(10, 'Jennifer Aniston')\n",
      "Michelle Yeoh\n",
      "Stephan James\n",
      "Jamie Lee Curtis\n",
      "Tom Cruise\n",
      "Kevin Hart\n",
      "Leonardo Dicaprio\n",
      "Samuel L Jackson\n",
      "Margot Robbie\n",
      "Angelina Jolie\n",
      "Jennifer Aniston\n",
      "1\n",
      "Michelle Yeoh\n",
      "2\n",
      "Stephan James\n",
      "3\n",
      "Jamie Lee Curtis\n",
      "4\n",
      "Tom Cruise\n",
      "5\n",
      "Kevin Hart\n",
      "6\n",
      "Leonardo Dicaprio\n",
      "7\n",
      "Samuel L Jackson\n",
      "8\n",
      "Margot Robbie\n",
      "9\n",
      "Angelina Jolie\n",
      "10\n",
      "Jennifer Aniston\n"
     ]
    }
   ],
   "source": [
    "import mysql.connector\n",
    "\n",
    "dbconnection = mysql.connector.connect(\n",
    "    host = \"localhost\",\n",
    "    user = \"root\",\n",
    "    password = \"\",\n",
    "    database = \"movies_db\"\n",
    ")\n",
    "\n",
    "cursor = dbconnection.cursor()\n",
    "query = \"SELECT * FROM actors\"\n",
    "cursor.execute(query)\n",
    "\n",
    "#cursor.execute(\"SELECT * FROM actors\")\n",
    "\n",
    "data = cursor.fetchall()\n",
    "print(data)\n",
    "\n",
    "for actor in data:\n",
    "    print(actor) #print alles\n",
    "\n",
    "for enkelacteur in data:\n",
    "    print(enkelacteur[1]) #0 --> id\n",
    "\n",
    "for id, name in data:\n",
    "    print(id)\n",
    "    print(name)\n",
    "\n",
    "cursor.close()\n",
    "dbconnection.close()"
   ]
  },
  {
   "cell_type": "code",
   "execution_count": 17,
   "metadata": {},
   "outputs": [
    {
     "name": "stdout",
     "output_type": "stream",
     "text": [
      "('Everything Everywhere All at Once', 'Michelle Yeoh')\n",
      "('Everything Everywhere All at Once', 'Stephan James')\n",
      "('Everything Everywhere All at Once', 'Jamie Lee Curtis')\n",
      "('Top Gun: Maverick', 'Tom Cruise')\n",
      "Michelle Yeoh speelt in Everything Everywhere All at Once\n",
      "Stephan James speelt in Everything Everywhere All at Once\n",
      "Jamie Lee Curtis speelt in Everything Everywhere All at Once\n",
      "Tom Cruise speelt in Top Gun: Maverick\n"
     ]
    }
   ],
   "source": [
    "import mysql.connector\n",
    "\n",
    "dbconnection = mysql.connector.connect(\n",
    "    host = \"localhost\",\n",
    "    user = \"root\",\n",
    "    password = \"\",\n",
    "    database = \"movies_db\"\n",
    ")\n",
    "\n",
    "cursor = dbconnection.cursor()\n",
    "\n",
    "query = \"\"\"select movies.title, actors.name from movies\n",
    "                inner join movie_actor on movies.id = movie_actor.movie_id\n",
    "                inner join actors on actors.id = movie_actor.actor_id\"\"\"\n",
    "\n",
    "cursor.execute(query)\n",
    "data = cursor.fetchall()\n",
    "\n",
    "for row in data:\n",
    "    print(row)\n",
    "\n",
    "for movie, actor in data:\n",
    "    print(actor, \"speelt in\", movie)\n",
    "\n",
    "cursor.close()\n",
    "dbconnection.close()"
   ]
  },
  {
   "cell_type": "markdown",
   "metadata": {},
   "source": [
    "### check slides voor querying in SQL\n",
    "\n",
    "## UPDATE OPERATION\n",
    "Jumanji --> eerst toevoegen, daarna updaten\n",
    "Board game brings jungle chaos, adventure and danger"
   ]
  },
  {
   "cell_type": "code",
   "execution_count": 19,
   "metadata": {},
   "outputs": [],
   "source": [
    "import mysql.connector\n",
    "\n",
    "dbconnection = mysql.connector.connect(\n",
    "    host = \"localhost\",\n",
    "    user = \"root\",\n",
    "    password = \"\",\n",
    "    database = \"movies_db\"\n",
    ")\n",
    "\n",
    "cursor = dbconnection.cursor()\n",
    "\n",
    "#cursor.execute(\"INSERT INTO movies(title) VALUES('Jumanji')\")\n",
    "query = \"UPDATE movies SET synopsis = 'Board game brings jungle chaos, adventure and danger' WHERE title like 'Jumanji'\"\n",
    "cursor.execute(query)\n",
    "dbconnection.commit()\n",
    "cursor.close()\n",
    "dbconnection.close()\n"
   ]
  },
  {
   "cell_type": "markdown",
   "metadata": {},
   "source": [
    "## SCRAPE DATA NAAR DATABASE\n",
    "https://en.wikipedia.org/wiki/List_of_Academy_Award%E2%80%93winning_films"
   ]
  },
  {
   "cell_type": "code",
   "execution_count": 22,
   "metadata": {},
   "outputs": [],
   "source": [
    "import requests\n",
    "from bs4 import BeautifulSoup\n",
    "\n",
    "url = \"https://en.wikipedia.org/wiki/List_of_Academy_Award-winning_films\"\n",
    "response = requests.get(url)\n",
    "soup = BeautifulSoup(response.text)\n",
    "\n",
    "import mysql.connector\n",
    "\n",
    "dbconnection = mysql.connector.connect(\n",
    "    host = \"localhost\",\n",
    "    user = \"root\",\n",
    "    password = \"\",\n",
    "    database = \"movies_db\"\n",
    ")\n",
    "\n",
    "cursor = dbconnection.cursor()\n",
    "tabel = soup.find(\"table\")\n",
    "rijen = tabel.find_all(\"tr\")\n",
    "\n",
    "for rij in rijen:\n",
    "    td = rij.find_all(\"td\")\n",
    "    if len(td) > 0:\n",
    "        title = td[0].get_text().strip().replace(\"'\", \"\")\n",
    "        year = td[1].get_text().strip()\n",
    "        awards = td[2].get_text().strip()\n",
    "        nom = td[3].get_text().strip()\n",
    "\n",
    "        #check voor dubbels\n",
    "        query = \"SELECT * FROM movies where title like'\" + title + \"'\"\n",
    "        cursor.execute(query)\n",
    "        data = cursor.fetchall()\n",
    "\n",
    "        if len(data) == 0:\n",
    "            query = \"INSERT into movies(title) VALUES('\" + title + \"')\"\n",
    "            cursor.execute(query)\n",
    "            dbconnection.commit()\n",
    "\n",
    "            movie_id = cursor.lastrowid\n",
    "            query = \"INSERT INTO awards(movie_id, awardshow_id, year, awards, nominations) VALUES (%s, %s, %s, %s, %s)\"\n",
    "\n",
    "            values = (movie_id, 1, year, awards, nom)\n",
    "            cursor.execute(query, values)\n",
    "            dbconnection.commit()\n",
    "\n",
    "cursor.close()\n",
    "dbconnection.close()"
   ]
  }
 ],
 "metadata": {
  "kernelspec": {
   "display_name": "Python 3",
   "language": "python",
   "name": "python3"
  },
  "language_info": {
   "codemirror_mode": {
    "name": "ipython",
    "version": 3
   },
   "file_extension": ".py",
   "mimetype": "text/x-python",
   "name": "python",
   "nbconvert_exporter": "python",
   "pygments_lexer": "ipython3",
   "version": "3.11.9"
  }
 },
 "nbformat": 4,
 "nbformat_minor": 2
}
