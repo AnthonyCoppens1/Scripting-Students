{
 "cells": [
  {
   "cell_type": "markdown",
   "metadata": {},
   "source": [
    "## Exercises about last week\n",
    "\n",
    "Lists:\n",
    "- Write a Python function that takes a list of integers as an input and returns the sum of all the even numbers in the list.\n",
    "- <b>Write a Python program that takes two lists and returns a new list that contains only the common elements between the two lists.</b>\n",
    "- Write a Python program that removes duplicates from a given list and returns the new list.\n",
    "\n",
    "Dictionaries:\n",
    "- Write a Python program that creates a dictionary of words and their frequencies in a given string.\n",
    "- Write a Python program that takes a dictionary and returns a new dictionary with keys and values swapped.\n",
    "- Write a Python program that merges two dictionaries.\n",
    "\n",
    "Tuples (like lists but can't be modified):\n",
    "- Write a Python program that takes a list of tuples and sorts them by the second element of each tuple.\n",
    "- Write a Python program that creates a tuple of the first 10 Fibonacci numbers.\n",
    "- <b>Write a Python program that takes a tuple of integers and returns the sum of all the even numbers in the tuple.</b>\n",
    "\n",
    "Sets (no duplicates in here ever):\n",
    "- Write a Python program that takes two sets and returns a new set that contains only the elements that are in both sets.\n",
    "- Write a Python program that removes all the duplicates from a given set.\n",
    "- Write a Python program that checks if a given set is a subset of another set.\n",
    "\n",
    "Loops:\n",
    "- Write a Python program that prints all the prime numbers between 1 and 100.\n",
    "- <b>Write a Python program that takes a list of integers and prints the square of each number. --> return list</b>\n",
    "- Write a Python program that prints the multiplication table of a given number.\n",
    "\n",
    "If structures:\n",
    "- Write a Python program that takes an integer and prints whether it is even or odd.\n",
    "- Write a Python program that takes three integers and prints the maximum of the three.\n",
    "- Write a Python program that takes a string and checks whether it is a palindrome or not."
   ]
  },
  {
   "cell_type": "code",
   "execution_count": 17,
   "metadata": {},
   "outputs": [
    {
     "name": "stdout",
     "output_type": "stream",
     "text": [
      "[1, 3]\n"
     ]
    }
   ],
   "source": [
    "def Commons(List1, List2):\n",
    "    commonList = []\n",
    "    for L1 in List1:\n",
    "        if L1 in List2:\n",
    "            commonList.append(int(L1))\n",
    "    return commonList\n",
    "\n",
    "List1 = input().split()\n",
    "#List1 = [int(i) for i in List1]\n",
    "List2 = input().split()\n",
    "#List2 = [int(i) for i in List2]\n",
    "\n",
    "print(Commons(List1,List2))\n"
   ]
  },
  {
   "cell_type": "code",
   "execution_count": 21,
   "metadata": {},
   "outputs": [
    {
     "name": "stdout",
     "output_type": "stream",
     "text": [
      "('1', '2', '3', '4', '5', '6')\n",
      "12\n"
     ]
    }
   ],
   "source": [
    "def Sum(Tup):\n",
    "    Tup = Tup.split()\n",
    "    Tup = tuple(Tup)\n",
    "    totalSum = sum(int(T) for T in Tup if int(T) % 2 == 0)\n",
    "    return totalSum\n",
    "\n",
    "Tup = input()\n",
    "print(Sum(Tup))"
   ]
  },
  {
   "cell_type": "code",
   "execution_count": 26,
   "metadata": {},
   "outputs": [
    {
     "name": "stdout",
     "output_type": "stream",
     "text": [
      "[1, 4, 9]\n"
     ]
    }
   ],
   "source": [
    "def Squared(L):\n",
    "    L = [i**2 for i in L]\n",
    "    return L\n",
    "\n",
    "L = [int(i) for i in input().split()]\n",
    "print(Squared(L))\n"
   ]
  },
  {
   "cell_type": "code",
   "execution_count": 1,
   "metadata": {},
   "outputs": [
    {
     "name": "stdout",
     "output_type": "stream",
     "text": [
      "Common elements: [2, 3]\n"
     ]
    }
   ],
   "source": [
    "def commons(list1, list2):\n",
    "    commonElements = list(set(list1) & set(list2))\n",
    "    return commonElements\n",
    "\n",
    "input1 = input().split() #checks spaces\n",
    "input2 = input().split() #checks spaces\n",
    "\n",
    "list1 = [int(i) for i in input1]\n",
    "list2 = [int(i) for i in input2]\n",
    "\n",
    "C = commons(list1, list2)\n",
    "print(\"Common elements:\", C)"
   ]
  },
  {
   "cell_type": "code",
   "execution_count": 7,
   "metadata": {},
   "outputs": [
    {
     "name": "stdout",
     "output_type": "stream",
     "text": [
      "(1, 2, 3, 4, 5, 6, 7, 8)\n",
      "20\n"
     ]
    }
   ],
   "source": [
    "def Sum(T):\n",
    "    total = 0\n",
    "    for number in T:\n",
    "        if number % 2 == 0:\n",
    "            total += number\n",
    "    return total\n",
    "\n",
    "stringcheck = input().split()\n",
    "T = tuple(int(number) for number in stringcheck)\n",
    "sumcheck = Sum(T)\n",
    "print(T)\n",
    "print(sumcheck)"
   ]
  },
  {
   "cell_type": "code",
   "execution_count": 9,
   "metadata": {},
   "outputs": [
    {
     "name": "stdout",
     "output_type": "stream",
     "text": [
      "[1, 4, 9, 16]\n"
     ]
    }
   ],
   "source": [
    "def Squared(L):\n",
    "    newList = [i**2 for i in L]\n",
    "    return newList\n",
    "\n",
    "L = input().split()\n",
    "L = [int(i) for i in L]\n",
    "print(Squared(L))\n"
   ]
  },
  {
   "cell_type": "markdown",
   "metadata": {},
   "source": [
    "# Python basics 03: Class of 27/02"
   ]
  },
  {
   "cell_type": "code",
   "execution_count": 27,
   "metadata": {},
   "outputs": [
    {
     "name": "stdout",
     "output_type": "stream",
     "text": [
      "Requirement already satisfied: numpy in c:\\users\\antho\\appdata\\local\\packages\\pythonsoftwarefoundation.python.3.11_qbz5n2kfra8p0\\localcache\\local-packages\\python311\\site-packages (1.26.4)\n"
     ]
    }
   ],
   "source": [
    "! pip install numpy"
   ]
  },
  {
   "cell_type": "markdown",
   "metadata": {},
   "source": [
    "## Importing Numpy"
   ]
  },
  {
   "cell_type": "code",
   "execution_count": null,
   "metadata": {},
   "outputs": [],
   "source": [
    "import numpy\n",
    "import numpy as np\n",
    "from numpy import arange"
   ]
  },
  {
   "cell_type": "markdown",
   "metadata": {},
   "source": [
    "## Create arrays\n",
    "array elements have to be the same datatype"
   ]
  },
  {
   "cell_type": "code",
   "execution_count": 46,
   "metadata": {},
   "outputs": [
    {
     "name": "stdout",
     "output_type": "stream",
     "text": [
      "[1, 5, 8, 10, 3]\n",
      "[ 1  5  8 10  3]\n",
      "[1, 5, 8, 10, 3, 1, 5, 8, 10, 3]\n",
      "[ 2 10 16 20  6]\n",
      "[0 1 2 3 4 5 6 7 8 9]\n",
      "[0. 0. 0. 0. 0. 0. 0. 0. 0. 0.]\n",
      "[1. 1. 1. 1. 1. 1. 1. 1. 1. 1.]\n",
      "[5 5 5 5 5 5 5 5 5 5]\n",
      "[-5  1  5 -2  4  4 -4  1 -1  0]\n",
      "[0.2074096  0.49590484 0.51999191 0.69547919 0.65628796 0.43798753\n",
      " 0.85087335 0.88872392 0.09766623 0.35133368]\n"
     ]
    }
   ],
   "source": [
    "import numpy as np\n",
    "list = [1,5,8,10,3]\n",
    "print(list)\n",
    "\n",
    "array = np.array(list)\n",
    "print(array)\n",
    "\n",
    "print(list * 2) #list is seen as whole, printed twice\n",
    "print(array * 2) #array is seen element by element, each element is multiplied\n",
    "\n",
    "list.append(2)\n",
    "#array.append(2) Can't append --> fixed size!\n",
    "\n",
    "#1D arrays\n",
    "print(np.arange(10)) #evenly spaces intervals with given key, upperbound is out\n",
    "print(np.zeros(10)) #10 0's --> x amount\n",
    "print(np.ones(10)) #10 1's --> x amount\n",
    "\n",
    "print(np.full(10,5)) #new arrays, certain length of specific element\n",
    "print(np.random.randint(-5,6,10)) #new array, low included, high (not included), size\n",
    "print(np.random.random(10)) #random array of floats of size x"
   ]
  },
  {
   "cell_type": "markdown",
   "metadata": {},
   "source": [
    "## Reshaping & converting arrays"
   ]
  },
  {
   "cell_type": "code",
   "execution_count": 59,
   "metadata": {},
   "outputs": [
    {
     "name": "stdout",
     "output_type": "stream",
     "text": [
      "[-5  0 -4 -5  0  3  4 -2 -4  5]\n",
      "(10,)\n",
      "1\n",
      "array is of type: int32\n",
      "[-5.  0. -4. -5.  0.  3.  4. -2. -4.  5.]\n",
      "['-5' '0' '-4' '-5' '0' '3' '4' '-2' '-4' '5']\n",
      "[[-5  0 -4 -5  0]\n",
      " [ 3  4 -2 -4  5]]\n",
      "[[-5  0]\n",
      " [-4 -5]\n",
      " [ 0  3]\n",
      " [ 4 -2]\n",
      " [-4  5]]\n"
     ]
    }
   ],
   "source": [
    "import numpy as np\n",
    "\n",
    "#change array again\n",
    "array = np.random.randint(-5,6,10)\n",
    "print(array)\n",
    "print(array.shape)\n",
    "print(array.ndim)\n",
    "\n",
    "print(\"array is of type:\", array.dtype)\n",
    "array_float = array.astype('f') #converts to specific datatype\n",
    "# 'f' float / 'i' integer / 'b' boolean / 'M' datetime / 'S' string\n",
    "print(array_float)\n",
    "\n",
    "array_string = array.astype(str)\n",
    "print(array_string)\n",
    "\n",
    "#2D arrays\n",
    "array_2D = np.reshape(array,(2,5))\n",
    "print(array_2D)\n",
    "\n",
    "array_2D = np.reshape(array,(5,2))\n",
    "print(array_2D)\n",
    "\n",
    "#needs to be a perfect fit\n",
    "#array3D = np.reshape(array,(3,3))\n",
    "#array_2D = np.reshape(array,(2,6))"
   ]
  },
  {
   "cell_type": "markdown",
   "metadata": {},
   "source": [
    "## Slicing arrays\n",
    "[start: end: step]"
   ]
  },
  {
   "cell_type": "code",
   "execution_count": 74,
   "metadata": {},
   "outputs": [
    {
     "name": "stdout",
     "output_type": "stream",
     "text": [
      "[6 8 2 9 3 1 4 7 0 5]\n",
      "[8 2 9 3]\n",
      "[8 2 9 3]\n",
      "[8 9]\n",
      "[6 8 2 9 3]\n",
      "[6 8 2 9 3]\n",
      "[6 8 2 9 3 1 4 7 0 5]\n",
      "[6 8 2 9 3 1 4 7 0 5]\n",
      "[5 0 7 4 1 3 9 2 8 6]\n",
      "[]\n",
      "[5 0 7 4 1 3 9 2 8 6]\n",
      "[5 0 7 4 1 3 9 2 8]\n",
      "[6 2 3 4 0]\n",
      "[5 7 1 9 8]\n"
     ]
    }
   ],
   "source": [
    "import numpy as np\n",
    "array = np.array([6,8,2,9,3,1,4,7,0,5])\n",
    "print(array)\n",
    "\n",
    "print(array[1:5:1]) #[8 2 9 3]\n",
    "print(array[1:5:]) #[8 2 9 3]\n",
    "print(array[1:5:2]) #[8 9]\n",
    "\n",
    "print(array[0:5:1]) #[6 8 2 9 3]\n",
    "print(array[:5:1]) #[6 8 2 9 3] --> default start index = 0\n",
    "\n",
    "print(array[0::1]) #[6 8 2 9 3 1 4 7 0 5]\n",
    "print(array[0:10:1]) #[6 8 2 9 3 1 4 7 0 5]\n",
    "\n",
    "#reverse array\n",
    "print(array[::-1]) #[5 0 7 4 1 3 9 2 8 6]\n",
    "print(array[0:10:-1]) #[] --> nothing in front of index 0\n",
    "print(array[10::-1]) #[5 0 7 4 1 3 9 2 8 6]\n",
    "print(array[10:0:-1]) #[5 0 7 4 1 3 9 2 8]\n",
    "\n",
    "print(array[::2]) #[6 2 3 4 0]\n",
    "print(array[::-2]) #[5 7 1 9 8]"
   ]
  },
  {
   "cell_type": "markdown",
   "metadata": {},
   "source": [
    "## Working with arrays"
   ]
  },
  {
   "cell_type": "code",
   "execution_count": 100,
   "metadata": {},
   "outputs": [
    {
     "name": "stdout",
     "output_type": "stream",
     "text": [
      "[0 1 2 3 4 5 6 7 8 9] [9 8 7 6 5 4 3 2 1 0]\n",
      "[9 9 9 9 9 9 9 9 9 9]\n",
      "[-9 -7 -5 -3 -1  1  3  5  7  9]\n",
      "[ 0  8 14 18 20 20 18 14  8  0]\n",
      "[1 1 3 3 5 5 7 7 9 9]\n",
      "[ 0  2  2  4  4  6  6  8  8 10]\n",
      "(array([0, 1, 2, 3], dtype=int64),)\n",
      "[9 8 7 6 0 0 0 0 0 0]\n",
      "\n",
      "[[9 8 7 6 5]\n",
      " [4 3 2 1 0]]\n",
      "\n",
      "[13 11  9  7  5]\n",
      "[5 0]\n",
      "[[ 9 17 24 30 35]\n",
      " [ 4  7  9 10 10]]\n",
      "\n",
      "45\n",
      "0\n",
      "9\n",
      "\n",
      "[0.         1.         1.41421356 1.73205081 2.         2.23606798\n",
      " 2.44948974 2.64575131 2.82842712 3.        ]\n",
      "[ 0  1  4  9 16 25 36 49 64 81]\n",
      "3.0\n"
     ]
    }
   ],
   "source": [
    "import numpy as np\n",
    "a = np.arange(0,10) #[0 1 2 3 4 5 6 7 8 9]\n",
    "b = np.arange(9,-1,-1) #[9 8 7 6 5 4 3 2 1 0]\n",
    "print(a,b)\n",
    "\n",
    "print(a+b)\n",
    "print(a-b)\n",
    "print(a*b)\n",
    "#print(a/b) --> mind dividing by 0\n",
    "\n",
    "print(np.where(a%2 == 0, a+1, a))\n",
    "print(np.where(a%2 == 0, a, a+1))\n",
    "# condition, x, y --> if condition is true execute first part, else second part\n",
    "\n",
    "print(np.where(b>5)) #you get indexes back\n",
    "print(np.where(b>5,b,0))\n",
    "\n",
    "print()\n",
    "b = np.reshape(b,(2,5))\n",
    "print(b)\n",
    "print()\n",
    "\n",
    "print(b.sum(axis=0)) #sum of columns\n",
    "print(b.min(axis=1)) #min value of rows\n",
    "print(b.cumsum(axis=1)) #sum of all elements in rows\n",
    "\n",
    "print()\n",
    "print(a.sum())\n",
    "print(a.min())\n",
    "print(a.max())\n",
    "\n",
    "print()\n",
    "print(np.sqrt(a))\n",
    "print(np.square(a))\n",
    "print(np.sqrt(a.max()))\n",
    "\n"
   ]
  },
  {
   "cell_type": "markdown",
   "metadata": {},
   "source": [
    "### Exercise: It's magic time\n",
    "Read in a 1D array and a number of rows! Convert the array to 2D! Calculate the sum of each column and if all sums are equal --> you're dealing with a magic table.\n",
    "<b>input</b><br>\n",
    "2 7 0 8 4 1 1 0 10<br>\n",
    "3<br>\n",
    "<b>output</b><br>\n",
    "True\n",
    "<pre>\n",
    "2   7   0\n",
    "8   4   1\n",
    "1   0   10\n",
    "<i>11   11  11</i> --> MAGIC TABLE\n",
    "</pre>"
   ]
  },
  {
   "cell_type": "code",
   "execution_count": 112,
   "metadata": {},
   "outputs": [
    {
     "name": "stdout",
     "output_type": "stream",
     "text": [
      "[[ 2  7  0]\n",
      " [ 8  4  1]\n",
      " [ 1  0 10]]\n"
     ]
    },
    {
     "ename": "TypeError",
     "evalue": "'axis' is an invalid keyword argument for sum()",
     "output_type": "error",
     "traceback": [
      "\u001b[1;31m---------------------------------------------------------------------------\u001b[0m",
      "\u001b[1;31mTypeError\u001b[0m                                 Traceback (most recent call last)",
      "Cell \u001b[1;32mIn[112], line 10\u001b[0m\n\u001b[0;32m      7\u001b[0m array1D \u001b[38;5;241m=\u001b[39m np\u001b[38;5;241m.\u001b[39mreshape(array1D,(rows, \u001b[38;5;28mlen\u001b[39m(array1D)\u001b[38;5;241m/\u001b[39m\u001b[38;5;241m/\u001b[39mrows))\n\u001b[0;32m      8\u001b[0m \u001b[38;5;28mprint\u001b[39m(array1D)\n\u001b[1;32m---> 10\u001b[0m sums \u001b[38;5;241m=\u001b[39m np\u001b[38;5;241m.\u001b[39msum(\u001b[38;5;28;43msum\u001b[39;49m\u001b[43m(\u001b[49m\u001b[43marray1D\u001b[49m\u001b[43m,\u001b[49m\u001b[43maxis\u001b[49m\u001b[38;5;241;43m=\u001b[39;49m\u001b[38;5;241;43m0\u001b[39;49m\u001b[43m)\u001b[49m) \u001b[38;5;66;03m#0 is columns, 1 is rows\u001b[39;00m\n\u001b[0;32m     11\u001b[0m \u001b[38;5;28mprint\u001b[39m(sums)\n\u001b[0;32m     13\u001b[0m total \u001b[38;5;241m=\u001b[39m np\u001b[38;5;241m.\u001b[39msum(sums)\n",
      "\u001b[1;31mTypeError\u001b[0m: 'axis' is an invalid keyword argument for sum()"
     ]
    }
   ],
   "source": [
    "import numpy as np\n",
    "s = input()\n",
    "array1D = np.array(s.split())\n",
    "array1D = array1D.astype('i')\n",
    "\n",
    "rows = int(input())\n",
    "array1D = np.reshape(array1D,(rows, len(array1D)//rows))\n",
    "print(array1D)\n",
    "\n",
    "sums = np.sum(array1D,axis=0) #0 is columns, 1 is rows\n",
    "print(sums)\n",
    "\n",
    "total = np.sum(sums)\n",
    "if total // rows == sums[0]:\n",
    "    print(\"MAGIC TABLE\")\n",
    "else:\n",
    "    print(\"NO MAGIC HERE\")\n",
    "\n",
    "#other approach\n",
    "check = True\n",
    "for value in sums:\n",
    "    if value != sums[0]:\n",
    "        check = False\n",
    "        break\n",
    "\n",
    "if check is True:\n",
    "    print(\"MAGIC TABLE\")\n",
    "else:\n",
    "    print(\"NO MAGIC HERE\")\n",
    "\n"
   ]
  }
 ],
 "metadata": {
  "kernelspec": {
   "display_name": "Python 3",
   "language": "python",
   "name": "python3"
  },
  "language_info": {
   "codemirror_mode": {
    "name": "ipython",
    "version": 3
   },
   "file_extension": ".py",
   "mimetype": "text/x-python",
   "name": "python",
   "nbconvert_exporter": "python",
   "pygments_lexer": "ipython3",
   "version": "3.11.8"
  }
 },
 "nbformat": 4,
 "nbformat_minor": 2
}
