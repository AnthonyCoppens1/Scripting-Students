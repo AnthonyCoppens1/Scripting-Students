{
 "cells": [
  {
   "cell_type": "markdown",
   "metadata": {},
   "source": [
    "# Week 6 - API\n",
    "- files recap exercise\n",
    "- API's ?!?\n",
    "- JSON <> XML\n",
    "- The fun stuff\n",
    "\n",
    "## Recap files\n",
    "download logbook.txt file from canvas, read it, and group activities per month as a dictionary\n",
    "\n",
    "- 2021-03-09 13:13:40 - Started work on project E\n",
    "- 2021-01-05 13:22:18 - Began coding on project B\n",
    "- 2020-09-18 16:49:34 - Reviewed code on project B\n",
    "- 2022-11-14 16:17:50 - Started work on project D\n",
    "\n",
    "\n",
    "output:\n",
    "\n",
    "January: 70 activities <br>\n",
    "February: 75 activities <br>\n",
    "March: 88 activities <br>"
   ]
  },
  {
   "cell_type": "code",
   "execution_count": 5,
   "metadata": {},
   "outputs": [
    {
     "name": "stdout",
     "output_type": "stream",
     "text": [
      "January : 70 activities\n",
      "February : 75 activities\n",
      "March : 88 activities\n",
      "April : 72 activities\n",
      "May : 94 activities\n",
      "June : 91 activities\n",
      "July : 87 activities\n",
      "August : 89 activities\n",
      "September : 87 activities\n",
      "October : 74 activities\n",
      "November : 85 activities\n",
      "December : 88 activities\n"
     ]
    }
   ],
   "source": [
    "months = [\"January\", \"February\", \"March\", \"April\", \"May\", \"June\", \"July\", \"August\", \"September\", \"October\", \"November\", \"December\"]\n",
    "activities = {}\n",
    "\n",
    "with open(\"logbook.txt\") as file:\n",
    "    for line in file.readlines():\n",
    "        month = int(line.split(\"-\")[1])-1\n",
    "        month_str = months[month]\n",
    "\n",
    "        if month_str in activities.keys():\n",
    "            activities[month_str] += 1\n",
    "        else:\n",
    "            activities[month_str] = 1\n",
    "\n",
    "for month in months:\n",
    "    print(month, \":\", activities[month], \"activities\")"
   ]
  },
  {
   "cell_type": "markdown",
   "metadata": {},
   "source": [
    "## JSON & XML\n",
    "JSON: text based file format used for storing and transmitting data, typically between a web server and a client\n",
    "nowadays --> standard format for data exchange\n",
    "\n",
    "XML: more complex, works with a tag structure\n",
    "\n",
    "module json\n",
    "\n",
    "always check tree view of json file --> makes things easier\n",
    "[codebeautify.org/jsonviewer](https://codebeautify.org/jsonviewer)"
   ]
  },
  {
   "cell_type": "code",
   "execution_count": null,
   "metadata": {},
   "outputs": [],
   "source": [
    "import json\n",
    "\n",
    "#string json example\n",
    "json_data = '{\"name\":\"Anthony\", \"age\": \"28\",\"study\":\"computer science\"}'\n",
    "\n",
    "data = json.loads(json_data) #string load\n",
    "print(data[\"name\"])\n",
    "\n",
    "json_file = open(\"books.json\",\"r\")\n",
    "data = json.load(json_file) #file load --> option 1\n",
    "#data = json.loads(json_file.read()) #string load --> option 2\n",
    "\n",
    "print()\n",
    "print(data[\"books\"][0][\"title\"]) \n",
    "print(data)\n",
    "print()\n",
    "\n",
    "for book in data[\"books\"]:\n",
    "    print(book[\"title\"])\n",
    "\n",
    "json_file.close()\n"
   ]
  },
  {
   "cell_type": "code",
   "execution_count": 11,
   "metadata": {},
   "outputs": [],
   "source": [
    "json_file = open(\"activities.json\",\"w\")\n",
    "json.dump(activities,json_file)\n",
    "json_file.close()"
   ]
  },
  {
   "cell_type": "code",
   "execution_count": 14,
   "metadata": {},
   "outputs": [],
   "source": [
    "import json\n",
    "\n",
    "python_data = {}\n",
    "python_data['people'] = []\n",
    "python_data['people'].append({'name':'Jason Statham', 'age':'54'})\n",
    "python_data['people'].append({'name':'Jason Momoa', 'age':'42'})\n",
    "python_data['people'].append({'name':'Jennifer Jason Leigh', 'age':'59'})\n",
    "python_data['people'].append({'name':'Jason Borne', 'age':'27'})\n",
    "python_data['people'].append({'name':'Jason Derulo', 'age':'34'})\n",
    "\n",
    "json_file = open('jason.json','w')\n",
    "json_data = json.dump(python_data,json_file)\n",
    "json_file.close()"
   ]
  },
  {
   "cell_type": "markdown",
   "metadata": {},
   "source": [
    "## Consume an API \n",
    "\n",
    "Making a request --> pip install requests\n",
    "\n",
    "make an account on rapidapi\n",
    "\n",
    "API's:\n",
    "- kanye.rest\n",
    "- dad jokes (ninjas)\n",
    "- love calculator\n",
    "- weather (ninjas)\n",
    "- text translator\n",
    "- random cat facts\n",
    "\n",
    "<b>IMPORT --> NEVER YOU YOUR CARD EVER</b>\n"
   ]
  },
  {
   "cell_type": "code",
   "execution_count": null,
   "metadata": {},
   "outputs": [],
   "source": [
    "! pip install requests"
   ]
  },
  {
   "cell_type": "code",
   "execution_count": 19,
   "metadata": {},
   "outputs": [
    {
     "name": "stdout",
     "output_type": "stream",
     "text": [
      "200\n",
      "from text {\"quote\":\"Believe in your flyness...conquer your shyness.\"} to json Believe in your flyness...conquer your shyness.\n",
      "Believe in your flyness...conquer your shyness.\n"
     ]
    }
   ],
   "source": [
    "import json\n",
    "import requests\n",
    "\n",
    "url = \"https://api.kanye.rest/\"\n",
    "\n",
    "response = requests.get(url)\n",
    "print(response.status_code)\n",
    "\n",
    "text = response.text\n",
    "\n",
    "data = json.loads(text) #string load\n",
    "print(\"from text\", text, \"to json\", data[\"quote\"])\n",
    "\n",
    "data = response.json()\n",
    "print(data[\"quote\"])"
   ]
  },
  {
   "cell_type": "code",
   "execution_count": 30,
   "metadata": {},
   "outputs": [
    {
     "name": "stdout",
     "output_type": "stream",
     "text": [
      "[{'joke': 'What kind of shoes does a lazy person wear? Loafers.'}]\n"
     ]
    }
   ],
   "source": [
    "import requests\n",
    "\n",
    "url = \"https://dad-jokes-by-api-ninjas.p.rapidapi.com/v1/dadjokes\"\n",
    "\n",
    "headers = {\n",
    "\t\"X-RapidAPI-Key\": \"<yourKey>\",\n",
    "\t\"X-RapidAPI-Host\": \"dad-jokes-by-api-ninjas.p.rapidapi.com\"\n",
    "}\n",
    "\n",
    "response = requests.get(url, headers=headers)\n",
    "#response = requests.request(\"GET\",url, headers=headers) --> general way\n",
    "\n",
    "print(response.json())\n",
    "\n",
    "with open(\"dadjokes.txt\",\"a\") as file:\n",
    "    file.write(\"\\n\")\n",
    "    file.write(str(response.json()))"
   ]
  },
  {
   "cell_type": "code",
   "execution_count": 36,
   "metadata": {},
   "outputs": [
    {
     "name": "stdout",
     "output_type": "stream",
     "text": [
      "99 % match --> Congratulations! Good choice\n"
     ]
    }
   ],
   "source": [
    "import requests\n",
    "\n",
    "url = \"https://love-calculator.p.rapidapi.com/getPercentage\"\n",
    "\n",
    "sname = input(\"Give a name: \")\n",
    "fname = input(\"Give a name: \")\n",
    "\n",
    "querystring = {\"sname\":sname,\"fname\":fname}\n",
    "\n",
    "headers = {\n",
    "\t\"X-RapidAPI-Key\": \"<yourKey>\",\n",
    "\t\"X-RapidAPI-Host\": \"love-calculator.p.rapidapi.com\"\n",
    "}\n",
    "\n",
    "response = requests.get(url, headers=headers, params=querystring)\n",
    "\n",
    "data = response.json()\n",
    "print(data[\"percentage\"], \"% match -->\", data[\"result\"])"
   ]
  },
  {
   "cell_type": "code",
   "execution_count": 47,
   "metadata": {},
   "outputs": [
    {
     "name": "stdout",
     "output_type": "stream",
     "text": [
      "Weather info from Paris\n",
      "Temperature 15 degrees but feels like 14\n",
      "It's as humid as a sauna of clouds, because our humidity is 69 %\n",
      "\n",
      "Weather info from Paris\n",
      "Temperature 15 degrees but feels like 14\n",
      "It's as humid as a sauna of clouds, because our humidity is 68 %\n"
     ]
    }
   ],
   "source": [
    "import requests\n",
    "\n",
    "url = \"https://weather-by-api-ninjas.p.rapidapi.com/v1/weather\"\n",
    "\n",
    "cityname = input(\"Enter a city: \")\n",
    "querystring = {\"city\": cityname}\n",
    "\n",
    "headers = {\n",
    "\t\"X-RapidAPI-Key\": \"<yourKey>\",\n",
    "\t\"X-RapidAPI-Host\": \"weather-by-api-ninjas.p.rapidapi.com\"\n",
    "}\n",
    "\n",
    "#exception handling\n",
    "try:\n",
    "    response = requests.request(\"GET\",url,headers=headers,params=querystring) #general way\n",
    "    data = response.json()\n",
    "    #print(data)\n",
    "    print(\"Weather info from\", cityname)\n",
    "    print(\"Temperature\", data[\"temp\"], \"degrees but feels like\", data[\"feels_like\"])\n",
    "    print(\"It's as humid as a sauna of clouds, because our humidity is\", data[\"humidity\"], \"%\")\n",
    "\n",
    "except:\n",
    "    print(\"Oopsie, something went wrong\")\n",
    "\n",
    "print()\n",
    "\n",
    "#second way of exception handling\n",
    "if response.status_code == 200:\n",
    "    response = requests.request(\"GET\",url,headers=headers,params=querystring) #general way\n",
    "    data = response.json()\n",
    "    #print(data)\n",
    "    print(\"Weather info from\", cityname)\n",
    "    print(\"Temperature\", data[\"temp\"], \"degrees but feels like\", data[\"feels_like\"])\n",
    "    print(\"It's as humid as a sauna of clouds, because our humidity is\", data[\"humidity\"], \"%\")\n",
    "else:\n",
    "    print(\"Oopsie, something went wrong\")"
   ]
  },
  {
   "cell_type": "code",
   "execution_count": 2,
   "metadata": {},
   "outputs": [
    {
     "name": "stdout",
     "output_type": "stream",
     "text": [
      "The original text is: This class is finally fun after all the struggles we've been through. Anthony apologises.\n",
      "The correct translation is: यह वर्ग आखिरकार हमारे द्वारा किए गए सभी संघर्षों के बाद मज़ेदार है। एंथोनी माफी माँगता है।\n"
     ]
    }
   ],
   "source": [
    "import requests\n",
    "\n",
    "url = \"https://text-translator2.p.rapidapi.com/translate\"\n",
    "\n",
    "payload = {\n",
    "\t\"source_language\": \"en\",\n",
    "\t\"target_language\": \"hi\",\n",
    "\t\"text\": \"This class is finally fun after all the struggles we've been through. Anthony apologises.\"\n",
    "}\n",
    "headers = {\n",
    "\t\"content-type\": \"application/x-www-form-urlencoded\",\n",
    "\t\"X-RapidAPI-Key\": \"fd6f435c07msh3de62319fcfa275p143e5cjsn4293d86a9f09\",\n",
    "\t\"X-RapidAPI-Host\": \"text-translator2.p.rapidapi.com\"\n",
    "}\n",
    "\n",
    "response = requests.post(url, data=payload, headers=headers)\n",
    "\n",
    "data = response.json()\n",
    "print(\"The original text is:\", payload[\"text\"])\n",
    "print(\"The correct translation is:\", data[\"data\"][\"translatedText\"])"
   ]
  },
  {
   "cell_type": "code",
   "execution_count": 1,
   "metadata": {},
   "outputs": [
    {
     "name": "stdout",
     "output_type": "stream",
     "text": [
      "{'message': 'You are not subscribed to this API.'}\n"
     ]
    }
   ],
   "source": [
    "import requests\n",
    "\n",
    "url = \"https://streaming-availability.p.rapidapi.com/countries\"\n",
    "\n",
    "querystring = {\"countryCode\":\"be\"}\n",
    "\n",
    "headers = {\n",
    "\t\"X-RapidAPI-Key\": \"<yourKey>\",\n",
    "\t\"X-RapidAPI-Host\": \"streaming-availability.p.rapidapi.com\"\n",
    "}\n",
    "\n",
    "response = requests.get(url, headers=headers,params=querystring)\n",
    "data = response.json()\n",
    "print(data)"
   ]
  }
 ],
 "metadata": {
  "kernelspec": {
   "display_name": "Python 3",
   "language": "python",
   "name": "python3"
  },
  "language_info": {
   "codemirror_mode": {
    "name": "ipython",
    "version": 3
   },
   "file_extension": ".py",
   "mimetype": "text/x-python",
   "name": "python",
   "nbconvert_exporter": "python",
   "pygments_lexer": "ipython3",
   "version": "3.11.8"
  }
 },
 "nbformat": 4,
 "nbformat_minor": 2
}
