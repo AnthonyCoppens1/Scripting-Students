{
 "cells": [
  {
   "cell_type": "markdown",
   "metadata": {},
   "source": [
    "# Week 5 - Revision regex and Files!"
   ]
  },
  {
   "cell_type": "code",
   "execution_count": 25,
   "metadata": {},
   "outputs": [
    {
     "name": "stdout",
     "output_type": "stream",
     "text": [
      "['5678', '2345', '9012', '1234', '6789', '7890']\n",
      "['5', '7', '2']\n",
      "['5', '9', '3', '1']\n",
      "['3', '7', '2', '8']\n",
      "['Lorem', 'ipsum', 'dolor', 'AU', 'sit', 'amet', 'consectetur', 'elit', 'Aenean', 'condimentum', 'enim', 'tincidunt', 'rutrum', 'libero', 'et', 'vestibulum', 'mauris', 'Donec', 'pretium', 'quam', 'eget', 'quam', 'dui', 'sem', 'mollis', 'suscipit', 'enim', 'sollicitudin', 'mi', 'In', 'congue', 'diam', 'quis', 'interdum', 'lacus', 'Nunc', 'nec', 'dui', 'nibh', 'Quisque', 'ut', 'dui', 'vulputate', 'dapibus', 'nibh', 'quis', 'condimenmut', 'dignissim', 'arcu', 'moerl', 'Nullam', 'diam', 'magna', 'mollis', 'elorm', 'ut', 'dui', 'eget', 'libero', 'Ut', 'placerat', 'finibus', 'est', 'ac', 'blandit', 'text', 'vitae', 'nibh', 'fermentum', 'nunc', 'nec', 'faucibus', 'nisi', 'Vestibulum', 'semper', 'nunc', 'id', 'sagittis', 'vulputate', 'ligula', 'dolor', 'blandit', 'nunc', 'sit', 'amet', 'ultricies', 'lectus', 'nibh', 'in', 'diam', 'Pellentesque', 'eu', 'condimentum', 'dui', 'Loremol', 'Nullam', 'venenatis', 'porttitor', 'et', 'consectetur', 'urna', 'posuere', 'vel', 'Nullam', 'lobortis', 'lectus', 'bibendum', 'porta', 'urna', 'a', 'ultricies', 'elit', 'Sed', 'a', 'molestie', 'enim', 'oei', 'cetusl']\n",
      "['5678', '2345', '9012', '1234', '6789', '7890']\n",
      "['AU', 'eu', 'a', 'a', 'oei']\n",
      "[]\n",
      "['Lorem', 'moerl', 'elorm']\n",
      "['condimentum', 'condimenmut', 'condimentum']\n"
     ]
    }
   ],
   "source": [
    "import re\n",
    "\n",
    "text = \"\"\"Lorem ipsum dolor AU sit amet, consectetur adipiscing5 elit. Aenean condimentum enim tincidunt, \n",
    "rutrum libero et, 5678 vestibulum mauris. Donec pretium, quam eget 25viverra pha3retra, quam dui laor7eet 2345 sem, mollis suscipit \n",
    "enim 7enim sollicitudin mi. In eg2et congue diam, quis interdum lacus. Nunc nec dui nibh. Quisque ut dui vulputate, \n",
    "dapibus nibh quis, condimenmut dignissim arcu. moerl Nullam diam magna, 9012 mollis elorm ut dui eget, interdum9 bla8ndit libero. Ut placerat finibus \n",
    "est ac 1234 blandit. text 2Cras vitae nibh fermentum, venenatis23 nunc nec, faucibus nisi. Vestibulum semper, nunc id \n",
    "sagittis vulputate, ligula dolor blandit nunc, sit amet ultricies lectus nibh in diam. 6789 Pellentesque eu \n",
    "condimentum dui. Loremol Nullam 7890 venenatis porttitor enim1 , et consectetur urna posuere vel. Nullam lobortis lectus \n",
    "bibendum, porta urna a, ultricies elit. Sed a molestie enim oei cetusl\"\"\"\n",
    "\n",
    "#all numbers (not indv digits)\n",
    "regex = r\"\\b\\d+\\b\" #\\b[0-9]+\\b\n",
    "list = re.findall(regex,text)\n",
    "print(list)\n",
    "\n",
    "#all numbers starting a string\n",
    "regex = r\"\\b(\\d)+[A-z]+\"\n",
    "list = re.findall(regex,text)\n",
    "print(list)\n",
    "\n",
    "#all numbers ending a string\n",
    "regex = r\"[A-z]+(\\d)+\\b\"\n",
    "list = re.findall(regex,text)\n",
    "print(list)\n",
    "\n",
    "#all numbers surrounded by alphabetical characters\n",
    "regex = r\"\\b[a-zA-Z]+(\\d+)[a-zA-Z]+\\b\"\n",
    "list = re.findall(regex,text)\n",
    "print(list)\n",
    "\n",
    "#all strings containing only alphabetical characters\n",
    "regex = r\"\\b[A-z]+\\b\"\n",
    "list = re.findall(regex,text)\n",
    "print(list)\n",
    "\n",
    "#all strings containing only digits\n",
    "regex = r\"\\b\\d+\\b\"\n",
    "list = re.findall(regex,text)\n",
    "print(list)\n",
    "\n",
    "#all strings containing only vowels\n",
    "regex = r\"\\b[aeiouAEIOU]+\\b\"\n",
    "list = re.findall(regex,text)\n",
    "print(list)\n",
    "\n",
    "#all strings containing only consonants\n",
    "regex = r\"\\b[^aeiouAEIOU\\d\\s\\W_]+\\b\"\n",
    "list = re.findall(regex,text)\n",
    "print(list)\n",
    "\n",
    "#all strings consisting only of the letters of lorem: lorem, moerl, merol\n",
    "regex = r\"\\b[loremLOREM]{5}\\b\"\n",
    "list = re.findall(regex,text)\n",
    "print(list)\n",
    "\n",
    "# all strings consisting only of the letters of input()\n",
    "letters = input()\n",
    "#letters = r\"\\b[\" + letters + r\"]{\" + str(len(letters)) + r\"}\\b\"\n",
    "letters = rf\"\\b[{letters}]\" + \"{\" + str(len(letters)) + r\"}\\b\"\n",
    "list = re.findall(letters, text)\n",
    "print(list)\n"
   ]
  },
  {
   "cell_type": "markdown",
   "metadata": {},
   "source": [
    "Try to find:\n",
    "- all numbers surrounded by alphabetical characters\n",
    "- all strings containing only alphabetical characters\n",
    "- all strings containing only digits\n",
    "- all strings containing only vowels\n",
    "- all strings containing only consonants\n",
    "- all strings consisting only of the letters of lorem: lorem, moerl, merol\n",
    "- all strings consisting only of the letters of input()"
   ]
  },
  {
   "cell_type": "markdown",
   "metadata": {},
   "source": [
    "## what're we doing today:\n",
    "- files and folders\n",
    "- creating files\n",
    "- reading and writing from and to files\n",
    "- (de)compressing\n",
    "- reading csv-file"
   ]
  },
  {
   "cell_type": "markdown",
   "metadata": {},
   "source": [
    "Write a python function called validate_email --> takes email as input and return a boolean that indicates whether or not it's valid\n",
    "- email address must contain \"@\"\n",
    "- part before \"@\" --> at least 1 char and only letters, numbers, dots, hyphens and underscores (a, 9, ., -, _)\n",
    "- part after \"@\" --> at least 2 chars and only letters, dots, hyphens (a, ., -)\n",
    "- cannot end with a dot\n"
   ]
  },
  {
   "cell_type": "code",
   "execution_count": 30,
   "metadata": {},
   "outputs": [
    {
     "name": "stdout",
     "output_type": "stream",
     "text": [
      "True\n",
      "False\n",
      "False\n",
      "False\n",
      "True\n"
     ]
    }
   ],
   "source": [
    "import re\n",
    "\n",
    "def validate_email(email):\n",
    "    if \"@\" not in email:\n",
    "        return False\n",
    "    \n",
    "    parts = email.split(\"@\")\n",
    "    if len(parts) != 2:\n",
    "        return False\n",
    "    \n",
    "    regex = r\"^[a-zA-Z0-9\\.\\-_]+$\"\n",
    "    if re.match(regex,parts[0]) is None:\n",
    "        return False\n",
    "    \n",
    "    regex = r\"[a-zA-Z\\.\\-]{2,}\"\n",
    "    if re.match(regex,parts[1]) is None:\n",
    "        return False\n",
    "    \n",
    "    if email[-1] == \".\":\n",
    "        return False\n",
    "    \n",
    "    return True\n",
    "\n",
    "print(validate_email(\"anthony.coppens@thomasmore.be\"))\n",
    "print(validate_email(\"anthony.coppens@thomasmore.be.\"))\n",
    "print(validate_email(\"anthony.coppens@thomas@more.be\"))\n",
    "print(validate_email(\"anthony coppens@thomasmore.be\"))\n",
    "print(validate_email(\"ant_hony12.3-@thomasmore.be\"))"
   ]
  },
  {
   "cell_type": "markdown",
   "metadata": {},
   "source": [
    "# Files and folders: os and pathlib"
   ]
  },
  {
   "cell_type": "code",
   "execution_count": 45,
   "metadata": {},
   "outputs": [
    {
     "name": "stdout",
     "output_type": "stream",
     "text": [
      "c:\\Users\\antho\\OneDrive\\Documenten\\Anthony-TM\\Scripting\\Scripting-Students\\Week5\n",
      "<class 'str'>\n",
      "c:\\Users\\antho\\OneDrive\\Documenten\\Anthony-TM\\Scripting\\Scripting-Students\\Week5\n",
      "<class 'pathlib.WindowsPath'>\n",
      "\n",
      "Filename: calc.exe\n",
      "Name: calc\n",
      "Extension: .exe\n",
      "Parent directory: C:\\Windows\\System32\n",
      "True\n",
      "True\n",
      "C:\\Users\\antho\n",
      "C:\\Users\\antho\\test\n",
      "C:\\Users\\antho/test\n",
      "C:\\Users\\antho\\test\n",
      "c:\\Users\\antho\\OneDrive\\Documenten\\Anthony-TM\\Scripting\\Scripting-Students\\Week5\\e_mail.txt\n"
     ]
    }
   ],
   "source": [
    "import os\n",
    "import pathlib\n",
    "\n",
    "print(os.getcwd()) #returns a string of current working directory\n",
    "print(type(os.getcwd()))\n",
    "\n",
    "print(pathlib.Path.cwd()) #returns an object of current working directory\n",
    "print(type(pathlib.Path.cwd())) \n",
    "\n",
    "print()\n",
    "\n",
    "calc = pathlib.Path(\"C:\\Windows\\System32\\calc.exe\")\n",
    "#calculator on pc\n",
    "print(\"Filename:\", calc.name) #final path component \n",
    "print(\"Name:\", calc.stem) #final path component - last suffix\n",
    "print(\"Extension:\", calc.suffix) #final comp extension\n",
    "print(\"Parent directory:\",calc.parent) #logical parent of Path --> everything until last comp\n",
    "print(calc.is_file())\n",
    "print(calc.exists())\n",
    "\n",
    "print(pathlib.Path.home())\n",
    "#working with strings\n",
    "print(str(pathlib.Path.home()) + \"\\\\\" + \"test\") #WINDOWS\n",
    "print(str(pathlib.Path.home()) + \"/\" + \"test\") #LINUX and MACOS\n",
    "\n",
    "#working with paths\n",
    "print(pathlib.Path.home() / \"test\")\n",
    "\n",
    "path_to_email_txt = os.getcwd() + \"\\e_mail.txt\"\n",
    "print(path_to_email_txt)"
   ]
  },
  {
   "cell_type": "markdown",
   "metadata": {},
   "source": [
    "### Walk in our directory"
   ]
  },
  {
   "cell_type": "code",
   "execution_count": 52,
   "metadata": {},
   "outputs": [
    {
     "name": "stdout",
     "output_type": "stream",
     "text": [
      "The current folder is c:\\Users\\antho\\OneDrive\\Documenten\\Anthony-TM\\Scripting\\Scripting-Students\\Week5\n",
      "SUBFOLDER OF c:\\Users\\antho\\OneDrive\\Documenten\\Anthony-TM\\Scripting\\Scripting-Students\\Week5:MECHELEN\n",
      "SUBFOLDER OF c:\\Users\\antho\\OneDrive\\Documenten\\Anthony-TM\\Scripting\\Scripting-Students\\Week5:test\n",
      "FILE INSIDE c:\\Users\\antho\\OneDrive\\Documenten\\Anthony-TM\\Scripting\\Scripting-Students\\Week5:countries.csv\n",
      "FILE INSIDE c:\\Users\\antho\\OneDrive\\Documenten\\Anthony-TM\\Scripting\\Scripting-Students\\Week5:e-mail.txt\n",
      "FILE INSIDE c:\\Users\\antho\\OneDrive\\Documenten\\Anthony-TM\\Scripting\\Scripting-Students\\Week5:Week5-Files.ipynb\n",
      "-----------\n",
      "The current folder is c:\\Users\\antho\\OneDrive\\Documenten\\Anthony-TM\\Scripting\\Scripting-Students\\Week5\\MECHELEN\n",
      "-----------\n",
      "The current folder is c:\\Users\\antho\\OneDrive\\Documenten\\Anthony-TM\\Scripting\\Scripting-Students\\Week5\\test\n",
      "FILE INSIDE c:\\Users\\antho\\OneDrive\\Documenten\\Anthony-TM\\Scripting\\Scripting-Students\\Week5\\test:countries.csv\n",
      "-----------\n"
     ]
    }
   ],
   "source": [
    "import os\n",
    "from pathlib import Path\n",
    "\n",
    "path_ = r\"c:\\Users\\antho\\OneDrive\\Documenten\\Anthony-TM\\Scripting\\Scripting-Students\\Week5\"\n",
    "#os.chdir(Path.home()) --> another way of changing dir\n",
    "\n",
    "for folderName, subfolders, filenames in os.walk(path_):\n",
    "    print(\"The current folder is \" + folderName)\n",
    "\n",
    "    for subfolder in subfolders:\n",
    "        print(\"SUBFOLDER OF \" + folderName + \":\" + subfolder)\n",
    "\n",
    "    for fileName in filenames:\n",
    "        print(\"FILE INSIDE \" + folderName + \":\" + fileName)\n",
    "    \n",
    "    print(\"-----------\")"
   ]
  },
  {
   "cell_type": "code",
   "execution_count": 57,
   "metadata": {},
   "outputs": [
    {
     "name": "stdout",
     "output_type": "stream",
     "text": [
      "c:\\Users\\antho\\OneDrive\\Documenten\\Anthony-TM\\Scripting\\Scripting-Students\\Week5\\ANTHONY.txt\n",
      "c:\\Users\\antho\\OneDrive\\Documenten\\Anthony-TM\\Scripting\\Scripting-Students\\Week5\\e-mail.txt\n",
      "c:\\Users\\antho\\OneDrive\\Documenten\\Anthony-TM\\Scripting\\Scripting-Students\\Week5\\Week5-Files.ipynb\n"
     ]
    }
   ],
   "source": [
    "# print and search for any file in a certain path\n",
    "from pathlib import Path\n",
    "\n",
    "path_string = r\"c:\\Users\\antho\\OneDrive\\Documenten\\Anthony-TM\\Scripting\\Scripting-Students\\Week5\"\n",
    "path_object = Path(path_string)\n",
    "\n",
    "for file in path_object.glob(\"*.txt\"):\n",
    "    print(file)\n",
    "\n",
    "for file in path_object.glob(\"*[0-9]*\"):\n",
    "    print(file)"
   ]
  },
  {
   "cell_type": "markdown",
   "metadata": {},
   "source": [
    "## Write to a file"
   ]
  },
  {
   "cell_type": "code",
   "execution_count": 65,
   "metadata": {},
   "outputs": [
    {
     "name": "stdout",
     "output_type": "stream",
     "text": [
      "c:\\Users\\antho\\OneDrive\\Documenten\\Anthony-TM\\Scripting\\Scripting-Students\\Week5\n",
      "c:\\Users\\antho\\OneDrive\\Documenten\\Anthony-TM\\Scripting\\Scripting-Students\\Week5\n"
     ]
    }
   ],
   "source": [
    "import os\n",
    "print(os.getcwd())\n",
    "os.chdir(r\"c:\\Users\\antho\\OneDrive\\Documenten\\Anthony-TM\\Scripting\\Scripting-Students\\Week5\")\n",
    "print(os.getcwd())\n",
    "\n",
    "#creating and writing --> if a file doesn't exist create AND write\n",
    "file = open(\"test.txt\",\"w\") #indicates writing and OVERWRITING ! CARE\n",
    "file.write(\"DONKEY\")\n",
    "file.write(\"\\ntest\")\n",
    "file.close()\n",
    "\n",
    "file = open(\"test.txt\", \"a\") #indicates appending\n",
    "file.write(\"\\n\\nanother test\")\n",
    "file.close()"
   ]
  },
  {
   "cell_type": "markdown",
   "metadata": {},
   "source": [
    "## Reading a file"
   ]
  },
  {
   "cell_type": "code",
   "execution_count": 69,
   "metadata": {},
   "outputs": [
    {
     "name": "stdout",
     "output_type": "stream",
     "text": [
      "DONKEY\n",
      "test\n",
      "\n",
      "another test\n",
      "\n",
      "DONKEY\n",
      "test\n",
      "\n",
      "another test\n"
     ]
    }
   ],
   "source": [
    "file = open(\"test.txt\", \"r\") #indicates reading\n",
    "print(file.read())\n",
    "file.close()\n",
    "\n",
    "print()\n",
    "\n",
    "with open(\"test.txt\",\"r\") as file:\n",
    "    print(file.read())\n",
    "\n",
    "#endocing problems?\n",
    "file = open(\"test.txt\",\"r\", encoding=\"utf-7\")\n",
    "file.close()\n",
    "#8-bits: US-ASCII, Latin-1 --> 16-bit: UTF-16 --> more bits = more chars\n"
   ]
  },
  {
   "cell_type": "markdown",
   "metadata": {},
   "source": [
    "### Reading email from a file\n",
    "check emails with the validate_email() function"
   ]
  },
  {
   "cell_type": "code",
   "execution_count": 70,
   "metadata": {},
   "outputs": [
    {
     "name": "stdout",
     "output_type": "stream",
     "text": [
      "example@example.com True --> True\n",
      "\n",
      "example@sub.domain.com True --> True\n",
      "\n",
      "example-123@sub.domain.com True --> True\n",
      "\n",
      "example123@sub.domain.com True --> True\n",
      "\n",
      "example_123@sub.domain.com True --> True\n",
      "\n",
      "example@sub-domain.com True --> True\n",
      "\n",
      "example@sub.domain True --> False\n",
      "\n",
      "example@sub. False --> False\n",
      "\n",
      "example@sub..com True --> False\n",
      "\n",
      "example@sub.domain.c True --> False\n",
      "\n",
      "example@sub-.domain.com True --> False\n",
      "\n",
      "example@sub_.domain.com True --> False\n",
      "\n",
      "example@sub.domain-.com True --> False\n",
      "\n",
      "example@sub.domain_.com True --> False\n",
      "\n"
     ]
    }
   ],
   "source": [
    "#ref to validate_email() exercise\n",
    "\n",
    "with open(\"e-mail.txt\", \"r\") as file:\n",
    "    for line in file.readlines():\n",
    "        parts = line.split(\";\")\n",
    "        print(parts[0], validate_email(parts[0]), \"-->\", parts[1])"
   ]
  },
  {
   "cell_type": "markdown",
   "metadata": {},
   "source": [
    "## Organizing files\n",
    "creating dir, deleting files, copying, moving\n",
    "\n",
    "if you want to delete --> use Send2Trash \n",
    "https://pypi.org/project/Send2Trash/"
   ]
  },
  {
   "cell_type": "code",
   "execution_count": 71,
   "metadata": {},
   "outputs": [
    {
     "name": "stdout",
     "output_type": "stream",
     "text": [
      "Requirement already satisfied: Send2Trash in c:\\users\\antho\\appdata\\local\\packages\\pythonsoftwarefoundation.python.3.11_qbz5n2kfra8p0\\localcache\\local-packages\\python311\\site-packages (1.8.2)\n"
     ]
    }
   ],
   "source": [
    "! pip install Send2Trash"
   ]
  },
  {
   "cell_type": "code",
   "execution_count": 76,
   "metadata": {},
   "outputs": [
    {
     "data": {
      "text/plain": [
       "'folder2/bacon.txt'"
      ]
     },
     "execution_count": 76,
     "metadata": {},
     "output_type": "execute_result"
    }
   ],
   "source": [
    "import shutil, os #shutil used to copy and move\n",
    "\n",
    "#os.mkdir(\"folder3\") #create folder in dir\n",
    "shutil.copy(\"test.txt\", \"folder2\") #copy file to folder in dir\n",
    "shutil.move(\"folder2/test.txt\", \"folder2/bacon.txt\") #changes old name to new name\n",
    "\n",
    "#shutil.rmtree(\"folder\") --> not a safe delete"
   ]
  },
  {
   "cell_type": "code",
   "execution_count": 78,
   "metadata": {},
   "outputs": [],
   "source": [
    "import send2trash\n",
    "\n",
    "file = open(\"testfile.txt\", \"w\")\n",
    "file.close()\n",
    "\n",
    "send2trash.send2trash(\"testfile.txt\")"
   ]
  },
  {
   "cell_type": "markdown",
   "metadata": {},
   "source": [
    "## work with zip-files\n",
    "compress files into a zip-file and extract files from a zip-file\n",
    "note: MASSIVE FILES --> wetransfer"
   ]
  },
  {
   "cell_type": "code",
   "execution_count": null,
   "metadata": {},
   "outputs": [],
   "source": [
    "import zipfile, os\n",
    "from pathlib import Path\n",
    "\n",
    "file = zipfile.ZipFile(\"zipfile.zip\",\"w\")\n",
    "file.write(\"e-mail.txt\")\n",
    "file.write(\"test.txt\")\n",
    "file.write(\"countries.csv\")\n",
    "file.close()\n",
    "\n",
    "file = zipfile.ZipFile(\"zipfile2.zip\",\"r\")\n",
    "file.extractall()\n",
    "file.close()"
   ]
  },
  {
   "cell_type": "markdown",
   "metadata": {},
   "source": [
    "Work with csv --> ex countries\n",
    "read countries.csv and\n",
    "- extract info for specific country --> print info\n",
    "- find country with largest area --> print name and area\n",
    "- find all countries in specific area --> print names"
   ]
  }
 ],
 "metadata": {
  "kernelspec": {
   "display_name": "Python 3",
   "language": "python",
   "name": "python3"
  },
  "language_info": {
   "codemirror_mode": {
    "name": "ipython",
    "version": 3
   },
   "file_extension": ".py",
   "mimetype": "text/x-python",
   "name": "python",
   "nbconvert_exporter": "python",
   "pygments_lexer": "ipython3",
   "version": "3.11.8"
  }
 },
 "nbformat": 4,
 "nbformat_minor": 2
}
