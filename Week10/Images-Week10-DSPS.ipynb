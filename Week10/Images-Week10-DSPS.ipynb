{
 "cells": [
  {
   "cell_type": "markdown",
   "metadata": {},
   "source": [
    "# Images - week 10\n",
    "\n",
    "## recap assignment for downloading images\n",
    "--> https://api.chucknorris.io/ --> grab a quote\n",
    "--> download all images from https://en.wikipedia.org/wiki/Chuck_Norris"
   ]
  },
  {
   "cell_type": "code",
   "execution_count": null,
   "metadata": {},
   "outputs": [],
   "source": [
    "import requests\n",
    "from bs4 import BeautifulSoup\n",
    "\n",
    "url = \"https://api.chucknorris.io/jokes/random\"\n",
    "response = requests.get(url)\n",
    "print(response.json()[\"value\"])\n",
    "\n",
    "url = \"https://en.wikipedia.org/wiki/Chuck_Norris\"\n",
    "response = requests.get(url)\n",
    "soup = BeautifulSoup(response.text)\n",
    "img_tags = soup.find_all(\"img\")\n",
    "\n",
    "for img in img_tags:\n",
    "    if img[\"src\"].endswith(\".jpg\"):\n",
    "        parts = img[\"src\"].split(\"/\")\n",
    "        with open(\"ChuckNorris/\" + parts[-1], \"wb\") as imagefile:\n",
    "            response = requests.get(\"http:\" + img[\"src\"])\n",
    "            imagefile.write(response.content)\n",
    "            print(\"downloaded\", parts[-1])"
   ]
  },
  {
   "cell_type": "markdown",
   "metadata": {},
   "source": [
    "## computer images\n",
    "install Pillow-package"
   ]
  },
  {
   "cell_type": "code",
   "execution_count": 7,
   "metadata": {},
   "outputs": [
    {
     "name": "stdout",
     "output_type": "stream",
     "text": [
      "Requirement already satisfied: Pillow in c:\\users\\antho\\appdata\\local\\packages\\pythonsoftwarefoundation.python.3.11_qbz5n2kfra8p0\\localcache\\local-packages\\python311\\site-packages (10.3.0)\n"
     ]
    }
   ],
   "source": [
    "! pip install Pillow"
   ]
  },
  {
   "cell_type": "code",
   "execution_count": 11,
   "metadata": {},
   "outputs": [
    {
     "name": "stdout",
     "output_type": "stream",
     "text": [
      "(0, 0, 255, 255)\n",
      "(255, 192, 203, 255)\n",
      "(255, 0, 255, 255)\n",
      "(210, 105, 30, 255)\n"
     ]
    }
   ],
   "source": [
    "from PIL import ImageColor\n",
    "\n",
    "print(ImageColor.getcolor('blue', 'RGBA'))\n",
    "print(ImageColor.getcolor('pink', 'RGBA'))\n",
    "print(ImageColor.getcolor('magenta', 'RGBA'))\n",
    "print(ImageColor.getcolor('chocolate', 'RGBA'))"
   ]
  },
  {
   "cell_type": "markdown",
   "metadata": {},
   "source": [
    "Download the file colours.txt from canvas:\n",
    "- AliceBlue\n",
    "- AntiqueWhite\n",
    "- Aqua\n",
    "...\n",
    "\n",
    "and create a csv-file in the following format\n",
    "- Color,R,G,B,A\n",
    "- AliceBlue,240,248,255,255\n",
    "- AntiqueWhite,250,235,215,255"
   ]
  },
  {
   "cell_type": "code",
   "execution_count": 13,
   "metadata": {},
   "outputs": [],
   "source": [
    "from PIL import ImageColor\n",
    "\n",
    "csvfile = open(\"colours.csv\",\"w\")\n",
    "csvfile.write(\"Colours,R,G,B,A\\n\")\n",
    "\n",
    "with open(\"colours.txt\", \"r\") as file:\n",
    "    for colour in file.readlines():\n",
    "        colourname = colour.strip()\n",
    "        rgba = ImageColor.getcolor(colourname, 'RGBA')\n",
    "        csvfile.write(colourname + \",\" + str(rgba[0]) + \",\" + str(rgba[1]) + \",\" + str(rgba[2]) + \",\" +str(rgba[3]) + \"\\n\")\n",
    "\n",
    "csvfile.close()"
   ]
  },
  {
   "cell_type": "markdown",
   "metadata": {},
   "source": [
    "## manipulation of images\n",
    "<img src=\"bird.jpg\">\n",
    "\n",
    "### Image properties"
   ]
  },
  {
   "cell_type": "code",
   "execution_count": 26,
   "metadata": {},
   "outputs": [
    {
     "name": "stdout",
     "output_type": "stream",
     "text": [
      "<PIL.JpegImagePlugin.JpegImageFile image mode=RGB size=640x424 at 0x23A6EBD27D0>\n",
      "424 640\n",
      "(640, 424)\n",
      "640\n",
      "C:\\Users\\antho\\OneDrive\\Documenten\\Anthony-TM\\Scripting\\Scripting-Students\\Week10\\bird.jpg\n",
      "JPEG\n",
      "JPEG (ISO 10918)\n",
      "Portable network graphics\n"
     ]
    }
   ],
   "source": [
    "from PIL import Image\n",
    "img = Image.open(\"bird.jpg\")\n",
    "print(img)\n",
    "print(img.height, img.width)\n",
    "print(img.size)\n",
    "width,height = img.size\n",
    "print(width)\n",
    "print(img.filename)\n",
    "print(img.format)\n",
    "img.show()\n",
    "\n",
    "#change format\n",
    "print(img.format_description)\n",
    "img.save(\"bird.png\")\n",
    "pngimg = Image.open(\"bird.png\")\n",
    "print(pngimg.format_description)\n",
    "pngimg.show()\n"
   ]
  },
  {
   "cell_type": "markdown",
   "metadata": {},
   "source": [
    "### cropping images"
   ]
  },
  {
   "cell_type": "code",
   "execution_count": 27,
   "metadata": {},
   "outputs": [],
   "source": [
    "from PIL import Image\n",
    "#IMPORTANT: CHECK SLIDES FOR CROPPING\n",
    "\n",
    "img = Image.open(\"bird.jpg\")\n",
    "img = img.crop((260,150,400,370))\n",
    "img.save(\"cropped_bird.jpg\")\n",
    "img.show()"
   ]
  },
  {
   "cell_type": "markdown",
   "metadata": {},
   "source": [
    "### creating image"
   ]
  },
  {
   "cell_type": "code",
   "execution_count": 31,
   "metadata": {},
   "outputs": [],
   "source": [
    "from PIL import Image\n",
    "\n",
    "img = Image.new('RGBA', (100,200), 'rebeccapurple')\n",
    "img.save('rebeccapurple.png')\n",
    "img.show()\n",
    "\n",
    "img = Image.new('RGBA', (20,20))\n",
    "img.save('transparant.png')\n",
    "img.show()\n",
    "\n",
    "img = Image.new('RGBA', (200,200), (0,255,0,100))\n",
    "img.save('green.png')\n",
    "img.show()"
   ]
  },
  {
   "cell_type": "markdown",
   "metadata": {},
   "source": [
    "### copy and paste images"
   ]
  },
  {
   "cell_type": "code",
   "execution_count": 37,
   "metadata": {},
   "outputs": [],
   "source": [
    "from PIL import Image\n",
    "img  = Image.open(\"bird.jpg\")\n",
    "crop = img.crop((260,150,400,370))\n",
    "\n",
    "copyimg = img.copy()\n",
    "copyimg.paste(crop, (0,0))\n",
    "copyimg.paste(crop, (500,0))\n",
    "copyimg.paste(crop, (300,100))\n",
    "copyimg.save(\"bird2.jpg\")"
   ]
  },
  {
   "cell_type": "code",
   "execution_count": 40,
   "metadata": {},
   "outputs": [],
   "source": [
    "#chessboard of little birdies\n",
    "from PIL import Image\n",
    "img = Image.new('RGBA', (400,200), \"lightblue\")\n",
    "cropped = Image.open(\"cropped_bird.jpg\")\n",
    "\n",
    "copy = cropped.copy()\n",
    "img.paste(crop, (0,0))\n",
    "img.save(\"aliceblue.gif\")\n",
    "\n",
    "img = Image.new('RGBA', (cropped.width*10,cropped.height*10),\"white\")\n",
    "for i in range(0,10):\n",
    "    for j in range(0,10):\n",
    "        if (i+j) % 2 == 0:\n",
    "            img.paste(copy, (i * cropped.width, j * cropped.height))\n",
    "\n",
    "img.save(\"birdies.gif\")"
   ]
  },
  {
   "cell_type": "markdown",
   "metadata": {},
   "source": [
    "### Transforming images"
   ]
  },
  {
   "cell_type": "code",
   "execution_count": 47,
   "metadata": {},
   "outputs": [],
   "source": [
    "from PIL import Image\n",
    "\n",
    "img = Image.open(\"bird.jpg\")\n",
    "img.rotate(90).show() #90 to the left\n",
    "img.rotate(180).show() #180 to the left\n",
    "img.rotate(-90).show() #90 to the right\n",
    "\n",
    "img.transpose(Image.FLIP_LEFT_RIGHT).show()\n",
    "img.transpose(Image.FLIP_TOP_BOTTOM).show()\n",
    "\n",
    "halfsize = img.resize((int(width/2), int(height/2)))\n",
    "halfsize.save(\"halfsize.jpg\")"
   ]
  },
  {
   "cell_type": "markdown",
   "metadata": {},
   "source": [
    "### Looping over images pixel by pixel and intro inversion\n",
    "play with colours"
   ]
  },
  {
   "cell_type": "code",
   "execution_count": 48,
   "metadata": {},
   "outputs": [],
   "source": [
    "\n",
    "from PIL import Image\n",
    "img = Image.open(\"cropped_bird.jpg\")\n",
    "for x in range(0,img.width):\n",
    "    for y in range(0,img.height):\n",
    "        r,g,b = img.getpixel((x,y))\n",
    "        inverted = (255-r, 255-g, 255-b)\n",
    "        img.putpixel((x,y), inverted)\n",
    "\n",
    "img.save(\"inverted.png\")"
   ]
  },
  {
   "cell_type": "code",
   "execution_count": 50,
   "metadata": {},
   "outputs": [],
   "source": [
    "from PIL import Image\n",
    "img = Image.open(\"bird.jpg\")\n",
    "red_img = Image.new('RGBA', img.size, \"white\")\n",
    "without_blue_img = Image.new('RGBA', img.size, \"white\")\n",
    "\n",
    "for i in range(0, img.width):\n",
    "    for j in range(0, img.height):\n",
    "        pixel = img.getpixel((i,j)) #--> getpixel(x,y) --> provides a list with 3 values (r,g,b)\n",
    "        red_img.putpixel((i,j), (255,pixel[1], pixel[2]))\n",
    "        without_blue_img.putpixel((i,j), (pixel[0], pixel[1], 0))\n",
    "\n",
    "red_img.save(\"bird_red.gif\")\n",
    "without_blue_img.save(\"without_blue_bird.png\")"
   ]
  },
  {
   "cell_type": "markdown",
   "metadata": {},
   "source": [
    "### Converting and inverting images"
   ]
  },
  {
   "cell_type": "code",
   "execution_count": 51,
   "metadata": {},
   "outputs": [],
   "source": [
    "from PIL import Image\n",
    "img = Image.open(\"bird.jpg\")\n",
    "img = img.convert(\"L\")\n",
    "img.show()"
   ]
  },
  {
   "cell_type": "code",
   "execution_count": 52,
   "metadata": {},
   "outputs": [],
   "source": [
    "#another way of converting\n",
    "from PIL import Image, ImageChops\n",
    "img = Image.open(\"cropped_bird.jpg\")\n",
    "img = ImageChops.invert(img)\n",
    "img.show()"
   ]
  },
  {
   "cell_type": "markdown",
   "metadata": {},
   "source": [
    "## Drawing in python --> on images\n",
    "figures and text\n",
    "for text --> don't forget a font-file in your folder"
   ]
  },
  {
   "cell_type": "code",
   "execution_count": 60,
   "metadata": {},
   "outputs": [],
   "source": [
    "from PIL import Image, ImageDraw\n",
    "\n",
    "img = Image.new('RGBA', (200,200), 'white')\n",
    "draw = ImageDraw.Draw(img)\n",
    "draw.rectangle((20,30,60,60), fill='blue')\n",
    "draw.line([(0,0), (199,199)], fill='black')\n",
    "draw.ellipse((120,30,160,60), fill='red')\n",
    "draw.polygon(((100,50), (125,75), (150,65), (125,100), (150,125),(100,100),(75,125),(75,100), (50,65), (75,75)),fill ='yellow')\n",
    "#what a beautiful star!!!\n",
    "\n",
    "for i in range(100,200,10):\n",
    "    draw.line([(i,0),(200,i-100)], fill = 'green')\n",
    "\n",
    "img.save('drawing.png')\n",
    "img.show()"
   ]
  },
  {
   "cell_type": "code",
   "execution_count": 66,
   "metadata": {},
   "outputs": [],
   "source": [
    "from PIL import Image, ImageDraw, ImageFont\n",
    "import os\n",
    "\n",
    "img = Image.new('RGBA', (200,200), 'white')\n",
    "draw = ImageDraw.Draw(img)\n",
    "\n",
    "draw.text((20,150), 'Hello', fill = 'purple')\n",
    "fontsFolder = 'FONT_FOLDER' #e.g. '/Library/Fonts'\n",
    "arialFont = ImageFont.truetype(os.path.join(fontsFolder, 'arial.ttf'), 32)\n",
    "draw.text((100,150), 'Hello', fill = 'gray', font = arialFont)\n",
    "img.save('text.png')\n",
    "img.show()"
   ]
  }
 ],
 "metadata": {
  "kernelspec": {
   "display_name": "Python 3",
   "language": "python",
   "name": "python3"
  },
  "language_info": {
   "codemirror_mode": {
    "name": "ipython",
    "version": 3
   },
   "file_extension": ".py",
   "mimetype": "text/x-python",
   "name": "python",
   "nbconvert_exporter": "python",
   "pygments_lexer": "ipython3",
   "version": "3.11.9"
  }
 },
 "nbformat": 4,
 "nbformat_minor": 2
}
