{
 "cells": [
  {
   "cell_type": "markdown",
   "metadata": {},
   "source": [
    "# Python basics week 2: 20/02\n",
    "## Revision exercises"
   ]
  },
  {
   "cell_type": "markdown",
   "metadata": {},
   "source": [
    "## Extra exercises from ChatGPT\n",
    "\n",
    "- Write a for loop that prints the numbers from 1 to 10.\n",
    "- Write a program to find out if a number is a prime number or not\n",
    "- Write a for loop that prints the even numbers from 2 to 20.\n",
    "- Write a for loop that prints the squares of the numbers from 1 to 5.\n",
    "- Write a for loop that iterates over a string and prints each character.\n",
    "- Write a while loop that prints the numbers from 1 to 10.\n",
    "- Write a while loop that prints the even numbers from 2 to 20.\n",
    "- Write a while loop that prints the squares of the numbers from 1 to 5.\n",
    "- Write a while loop that iterates over a string and prints each character.\n",
    "- Write a for loop that prints the numbers from 1 to 10, but only print the even numbers.\n",
    "- Write a while loop that prompts the user to enter a password, and keep asking until they enter the correct password.\n",
    "- Write a while loop that prompts the user to enter a number, and keep asking until they enter a positive number.\n",
    "- FizzBuzz: Write a program that prints the numbers from 1 to 100. For multiples of 3, print \"Fizz\" instead of the number, and for multiples of 5, print \"Buzz\". For numbers which are multiples of both 3 and 5, print \"FizzBuzz\".\n",
    "- Sum of numbers: Write a program that takes a positive integer n as input and calculates the sum of all numbers from 1 to n.\n",
    "- Write a program that calculates the area of a circle using the formula area = pi * r**2. Ask the user to input the radius of the circle, and print out the calculated area.\n",
    "- Write a program that calculates the sum of the first 100 positive integers using the formula sum = n * (n + 1) / 2. Print out the calculated sum.\n",
    "- Write a program that asks the user to enter their name, and then prints out a personalized greeting using their name.\n",
    "- Write a program that asks the user to enter a number, and then prints out whether the number is positive, negative, or zero.\n",
    "- Write a program that asks the user to enter a temperature in Celsius, and then converts the temperature to Fahrenheit using the formula fahrenheit = celsius * 9/5 + 32. Print out the converted temperature.\n",
    "- Write a program that asks the user to enter the lengths of the sides of a rectangle, and then calculates the area and perimeter of the rectangle. Print out the calculated values.\n"
   ]
  },
  {
   "cell_type": "code",
   "execution_count": 1,
   "metadata": {},
   "outputs": [
    {
     "name": "stdout",
     "output_type": "stream",
     "text": [
      "1\n",
      "2\n",
      "Fizz\n",
      "4\n",
      "Buzz\n",
      "Fizz\n",
      "7\n",
      "8\n",
      "Fizz\n",
      "Buzz\n",
      "11\n",
      "Fizz\n",
      "13\n",
      "14\n",
      "FizzBuzz\n",
      "16\n",
      "17\n",
      "Fizz\n",
      "19\n",
      "Buzz\n",
      "Fizz\n",
      "22\n",
      "23\n",
      "Fizz\n",
      "Buzz\n",
      "26\n",
      "Fizz\n",
      "28\n",
      "29\n",
      "FizzBuzz\n",
      "31\n",
      "32\n",
      "Fizz\n",
      "34\n",
      "Buzz\n",
      "Fizz\n",
      "37\n",
      "38\n",
      "Fizz\n",
      "Buzz\n",
      "41\n",
      "Fizz\n",
      "43\n",
      "44\n",
      "FizzBuzz\n",
      "46\n",
      "47\n",
      "Fizz\n",
      "49\n",
      "Buzz\n",
      "Fizz\n",
      "52\n",
      "53\n",
      "Fizz\n",
      "Buzz\n",
      "56\n",
      "Fizz\n",
      "58\n",
      "59\n",
      "FizzBuzz\n",
      "61\n",
      "62\n",
      "Fizz\n",
      "64\n",
      "Buzz\n",
      "Fizz\n",
      "67\n",
      "68\n",
      "Fizz\n",
      "Buzz\n",
      "71\n",
      "Fizz\n",
      "73\n",
      "74\n",
      "FizzBuzz\n",
      "76\n",
      "77\n",
      "Fizz\n",
      "79\n",
      "Buzz\n",
      "Fizz\n",
      "82\n",
      "83\n",
      "Fizz\n",
      "Buzz\n",
      "86\n",
      "Fizz\n",
      "88\n",
      "89\n",
      "FizzBuzz\n",
      "91\n",
      "92\n",
      "Fizz\n",
      "94\n",
      "Buzz\n",
      "Fizz\n",
      "97\n",
      "98\n",
      "Fizz\n",
      "Buzz\n"
     ]
    }
   ],
   "source": [
    "#FizzBuzz: Write a program that prints the numbers from 1 to 100. For multiples of 3, \n",
    "#print \"Fizz\" instead of the number, and for multiples of 5, print \"Buzz\". For numbers which are multiples of \n",
    "#both 3 and 5, print \"FizzBuzz\".\n",
    "\n",
    "for x in range(1,101):\n",
    "    if x % 3 == 0 and x % 5 != 0:\n",
    "        print(\"Fizz\")\n",
    "    elif x % 5 == 0 and x % 3 != 0:\n",
    "        print(\"Buzz\")\n",
    "    elif x % 3 == 0 and x % 5 == 0:\n",
    "        print(\"FizzBuzz\")\n",
    "    else:\n",
    "        print(x)"
   ]
  },
  {
   "cell_type": "code",
   "execution_count": 5,
   "metadata": {},
   "outputs": [
    {
     "name": "stdout",
     "output_type": "stream",
     "text": [
      "171700.0\n",
      "127765.0\n"
     ]
    }
   ],
   "source": [
    "#- Write a program that calculates the sum of the first 100 positive integers using the formula \n",
    "#sum = n * (n + 1) / 2. Print out the calculated sum.\n",
    "\n",
    "sum = 0\n",
    "for i in range(1,101):\n",
    "    sum += i * (i + 1) / 2\n",
    "print(sum)"
   ]
  },
  {
   "cell_type": "markdown",
   "metadata": {},
   "source": [
    "## Repition is the mother of all learning\n",
    "### sequence of Hailstone\n",
    "\n",
    "- If n is 1 --> sequence stops\n",
    "- If n is even then next n of sequence = n/2\n",
    "- If n is odd then next n of sequence = (3 * n) + 1"
   ]
  },
  {
   "cell_type": "code",
   "execution_count": 8,
   "metadata": {},
   "outputs": [
    {
     "name": "stdout",
     "output_type": "stream",
     "text": [
      "Hailstone sequence 10 5 16 8 4 2 1 "
     ]
    }
   ],
   "source": [
    "n = int(input(\"Give me a positive integer: \"))\n",
    "print(\"Hailstone sequence\", n , end = \" \")\n",
    "\n",
    "while n != 1:\n",
    "    if n % 2 == 0:\n",
    "        n = n // 2 # if you use 1 / --> decimals\n",
    "    else:\n",
    "        n = (3*n)+1\n",
    "    print(n, end = \" \")\n",
    "\n"
   ]
  },
  {
   "cell_type": "markdown",
   "metadata": {},
   "source": [
    "## Functions (methods in c#)\n",
    "\n",
    "In Python, a function is a reusable block of code that performs a specific task. Functions can take input parameters, process them, and optionally return a result. To define a function in Python, you need to use the def keyword followed by the function name and the input parameter(s) enclosed in parentheses.\n",
    "\n",
    "def name (par 1, par 2):\n",
    "    //do something with parameters\n",
    "    return value\n",
    "\n",
    "Create a function that counts the vowels in a word (aeiou) --> 4 different ways\n",
    "- function --> no parameters & no return\n",
    "- function --> no parameters & return\n",
    "- function --> parameters & no return\n",
    "- function --> parameters & return"
   ]
  },
  {
   "cell_type": "code",
   "execution_count": 13,
   "metadata": {},
   "outputs": [
    {
     "name": "stdout",
     "output_type": "stream",
     "text": [
      "APPLE has 2 vowels\n",
      "APPLE\n"
     ]
    }
   ],
   "source": [
    "#function --> no parameters & no return\n",
    "\n",
    "def CountVowelNPNR():\n",
    "    word = input(\"Enter a word: \")\n",
    "    count = 0\n",
    "    for c in word.lower(): #add .lower() to check vowels regardless of caps\n",
    "        if c in \"aeiou\":\n",
    "        #if c == 'a' or c == 'e' or c == 'i' or c == 'o' or c == 'u': --> another option\n",
    "            count += 1\n",
    "    print(word, \"has\", count, \"vowels\")\n",
    "\n",
    "CountVowelNPNR()\n"
   ]
  },
  {
   "cell_type": "code",
   "execution_count": 15,
   "metadata": {},
   "outputs": [
    {
     "name": "stdout",
     "output_type": "stream",
     "text": [
      "apple has 2 vowels\n"
     ]
    }
   ],
   "source": [
    "#function --> no parameters & return\n",
    "\n",
    "def CountVowelNPR():\n",
    "    word = input(\"Enter a word: \")\n",
    "    count = 0\n",
    "    for c in word.lower(): #add .lower() to check vowels regardless of caps\n",
    "        if c in \"aeiou\":\n",
    "        #if c == 'a' or c == 'e' or c == 'i' or c == 'o' or c == 'u': --> another option\n",
    "            count += 1\n",
    "    return word + \" has \" + str(count) + \" vowels\"\n",
    "\n",
    "print(CountVowelNPR())"
   ]
  },
  {
   "cell_type": "code",
   "execution_count": 18,
   "metadata": {},
   "outputs": [
    {
     "name": "stdout",
     "output_type": "stream",
     "text": [
      "apple has 2 vowels\n",
      "4\n",
      "2\n",
      "2\n"
     ]
    }
   ],
   "source": [
    "#BEST OPTION --> function parameters & return\n",
    "\n",
    "def CountVowelPR(word):\n",
    "    count = 0\n",
    "    for c in word.lower():\n",
    "        if c in \"aeiou\":\n",
    "            count += 1\n",
    "    return count\n",
    "\n",
    "word = input(\"Enter a word: \")\n",
    "print(word, \"has\", CountVowelPR(word),\"vowels\")\n",
    "print(CountVowelPR(\"SELECTION\"))\n",
    "print(CountVowelPR(\"apple\"))\n",
    "print(CountVowelPR(\"AppLe\"))"
   ]
  },
  {
   "cell_type": "markdown",
   "metadata": {},
   "source": [
    "### Excises: next prime\n",
    "Find next prime number using a function!\n",
    "*Prime number is a positive integer > 1 that has no positive integer divisors other than 1 and itself --> divisible only by 1 and itself*\n",
    "\n",
    "e.g 2, 3, 5, 7, 11, 13, 17, 19, 23, 29, 31, 37, ... "
   ]
  },
  {
   "cell_type": "code",
   "execution_count": 22,
   "metadata": {},
   "outputs": [
    {
     "name": "stdout",
     "output_type": "stream",
     "text": [
      "True 7\n",
      "False 97\n",
      "False 1009\n",
      "True 1013\n"
     ]
    }
   ],
   "source": [
    "def IsPrime(number):\n",
    "    count = 0\n",
    "    for i in range(1,number+1):\n",
    "        if number % i == 0:\n",
    "            count += 1\n",
    "    if count == 2:\n",
    "        return True\n",
    "    else:\n",
    "        return False\n",
    "\n",
    "def NextPrime(number):\n",
    "    number += 1 #add 1 to original number\n",
    "    while not IsPrime(number):\n",
    "        number += 1\n",
    "    return number\n",
    "\n",
    "print(IsPrime(5), NextPrime(5))\n",
    "print(IsPrime(93), NextPrime(93))\n",
    "print(IsPrime(1000), NextPrime(1000))\n",
    "print(IsPrime(1009), NextPrime(1009))\n"
   ]
  },
  {
   "cell_type": "markdown",
   "metadata": {},
   "source": [
    "## Collections\n",
    "\n",
    "In Python, a collection is a data type that groups multiple values into a single object. There are several types of collections in Python, including lists, tuples, sets, and dictionaries. Each type of collection has its own properties and use cases.\n",
    "\n",
    "### List [ ]\n",
    "Lists are one of the most commonly used data structures in Python. They are ordered, changeable, and allow duplicate values. Lists are created using square brackets [] and can contain any data type. Lists are mutable, meaning that their contents can be modified after they are created."
   ]
  },
  {
   "cell_type": "code",
   "execution_count": 47,
   "metadata": {},
   "outputs": [
    {
     "name": "stdout",
     "output_type": "stream",
     "text": [
      "[3, 'mango', True]\n",
      "[3, 'mango', True, 3, 8, 9]\n",
      "[3, 'mango', True, 3, 8, 9, 3, 'mango', True, 3, 8, 9]\n",
      "['first', 3, 'mango', True, 3, 8, 9, 3, 'mango', True, 3, 8, 9, 'word']\n",
      "['first', 'second', 'mango', True, 3, 8, 9, 3, 'mango', True, 3, 8, 9, 'word']\n",
      "['first', 'second', 'mango', True, 3, 8, 9, 3, 'mango', True, 3, 8, 9]\n",
      "9\n",
      "first\n",
      "first\n",
      "13\n",
      "[9, 8, 3, True, 'mango', 3, 9, 8, 3, True, 'mango', 'second', 'first']\n",
      "9-8-3-True-mango-3-9-8-3-True-mango-second-first-12.3-\n",
      "Yes, the word second is inside of it\n",
      "[0, 2, 4, 6, 8, 10, 12, 14, 16, 18, 20, 22, 24, 26, 28, 30, 32, 34, 36, 38, 40, 42, 44, 46, 48, 50, 52, 54, 56, 58, 60, 62, 64, 66, 68, 70, 72, 74, 76, 78, 80, 82, 84, 86, 88, 90, 92, 94, 96, 98]\n",
      "[0, 1, 4, 9, 16, 25, 36, 49, 64, 81]\n",
      "[2, 2, 2, 2, 2, 2, 2, 2, 2, 2]\n",
      "[2, 20, 2, 2, 2, 2, 2, 2, 2, 2]\n",
      "[9, 8, 3, 3, 9, 8, 3]\n",
      "1 2 3 \n",
      "4 5 6 \n",
      "7 8 9 \n",
      "\n",
      "1 2 3 \n",
      "4 5 6 \n",
      "7 8 9 \n"
     ]
    }
   ],
   "source": [
    "list = [] #empty list\n",
    "list.append(3) #add item to end of the list\n",
    "list.append(\"mango\")\n",
    "list.append(True)\n",
    "print(list)\n",
    "\n",
    "list += [3,8,9] #adding a list to the list\n",
    "print(list)\n",
    "\n",
    "list += list\n",
    "print(list)\n",
    "\n",
    "list = list + [\"word\"]\n",
    "list.insert(0,\"first\")\n",
    "print(list)\n",
    "\n",
    "list[1] = \"second\"\n",
    "print(list)\n",
    "\n",
    "list.pop() #remove last element\n",
    "print(list)\n",
    "\n",
    "print(list[-1])\n",
    "print(list[-13])\n",
    "print(list[0])\n",
    "print(len(list))\n",
    "\n",
    "#list.sort() --> can't sort unless 1 specific datatype throughout whole list\n",
    "list.reverse()\n",
    "print(list)\n",
    "\n",
    "list.append(12.3)\n",
    "\n",
    "\n",
    "for element in list:\n",
    "    print(element, end = \"-\")\n",
    "\n",
    "print()\n",
    "\n",
    "if \"second\" in list:\n",
    "    print(\"Yes, the word second is inside of it\")\n",
    "\n",
    "\n",
    "#list through a for-loop\n",
    "newlist = [x for x in range(0,100,2)] #adds elements to list through loop, steps of 2, 100 not included\n",
    "print(newlist)\n",
    "\n",
    "newlist = [x**2 for x in range(0,10)] #override current list --> if += --> add to list\n",
    "print(newlist)\n",
    "\n",
    "newlist = [2] * 10 #adds number 2 ten times to the list\n",
    "print(newlist)\n",
    "\n",
    "newlist[1] *= 10 #number at index 1 is multiplied by 10\n",
    "print(newlist)\n",
    "\n",
    "#remove all non numbers (NaN) from list\n",
    "newlist = []\n",
    "for element in list:\n",
    "    if (type(element) == int):\n",
    "        newlist.append(element)\n",
    "print(newlist)\n",
    "\n",
    "\n",
    "matrix = [[1,2,3], [4,5,6], [7,8,9]]\n",
    "\n",
    "for row in matrix:\n",
    "    for element in row:\n",
    "        print(element, end = \" \")\n",
    "    print() #without this, one line\n",
    "\n",
    "print()\n",
    "for i in range(0, len(matrix)):\n",
    "    for j in range(0, len(matrix)):\n",
    "        print(matrix[i][j], end = \" \")\n",
    "    print()"
   ]
  },
  {
   "cell_type": "markdown",
   "metadata": {},
   "source": [
    "### Tuple ( )\n",
    "Tuples are similar to lists, but they are immutable, meaning that their contents cannot be modified after they are created. They are ordered and allow duplicate values. Tuples are created using parentheses () and can contain any data type. \n",
    "\n",
    "Typical for months, weekdays, seasons, planets"
   ]
  },
  {
   "cell_type": "code",
   "execution_count": 52,
   "metadata": {},
   "outputs": [
    {
     "name": "stdout",
     "output_type": "stream",
     "text": [
      "('mon', 'tue', 'wed', 'thu', 'fri', 'sat', 'sun')\n",
      "One word\n"
     ]
    }
   ],
   "source": [
    "weekdays = (\"mon\", \"tue\", \"wed\", \"thu\", \"fri\", \"sat\", \"sun\")\n",
    "print(weekdays)\n",
    "\n",
    "#adapting isn't possible, overriding is the only possible option if you want to change\n",
    "weekdays = (\"One word\")\n",
    "print(weekdays)"
   ]
  },
  {
   "cell_type": "markdown",
   "metadata": {},
   "source": [
    "### Set { } \n",
    "Sets are unordered and do not allow duplicate values. They are created using curly braces {} or the set() constructor function. Sets can contain any data type, but they must be hashable (immutable) so that they can be stored in a set. Sets are useful for removing duplicates and performing set operations such as union and intersection. "
   ]
  },
  {
   "cell_type": "code",
   "execution_count": 56,
   "metadata": {},
   "outputs": [
    {
     "name": "stdout",
     "output_type": "stream",
     "text": [
      "LIST [2, 3, 5, 5, 7, 7, 11, 11, 11, 11, 13, 13, 17, 17, 17, 17, 19, 19, 23, 23, 23, 23, 29, 29, 29, 29, 29, 29, 31, 31, 37, 37, 37, 37, 37, 37, 41, 41, 41, 41, 43, 43, 47, 47, 47, 47, 53, 53, 53, 53, 53, 53, 59, 59, 59, 59, 59, 59, 61, 61, 67, 67, 67, 67, 67, 67, 71, 71, 71, 71, 73, 73, 79, 79, 79, 79, 79, 79, 83, 83, 83, 83, 89, 89, 89, 89, 89, 89, 97, 97, 97, 97, 97, 97, 97, 97, 101, 101, 101]\n",
      "SET {2, 3, 5, 7, 11, 13, 17, 19, 23, 29, 31, 37, 41, 43, 47, 53, 59, 61, 67, 71, 73, 79, 83, 89, 97, 101}\n"
     ]
    }
   ],
   "source": [
    "prime_list = [2]\n",
    "prime_set = {2}\n",
    "\n",
    "for x in range(2, 100):\n",
    "    prime_list.append(NextPrime(x))\n",
    "    prime_set.add(NextPrime(x)) #appending doesnt work with sets\n",
    "\n",
    "print(\"LIST\", prime_list)\n",
    "print(\"SET\", prime_set)\n",
    "\n",
    "#CFR\n",
    "#def NextPrime(number):\n",
    "#    number += 1 #add 1 to original number\n",
    "#    while not IsPrime(number):\n",
    "#        number += 1\n",
    "#    return number"
   ]
  },
  {
   "cell_type": "markdown",
   "metadata": {},
   "source": [
    "### Dictionary { key: value }\n",
    "Dictionaries are unordered, changeable, and indexed by keys. They are created using curly braces {} and contain key-value pairs separated by colons. Dictionaries can contain any data type as values, but keys must be hashable (immutable) so that they can be used as dictionary keys. Dictionaries are useful for storing data in a structured way and performing fast lookups by key."
   ]
  },
  {
   "cell_type": "code",
   "execution_count": 67,
   "metadata": {},
   "outputs": [
    {
     "name": "stdout",
     "output_type": "stream",
     "text": [
      "{'a': 'apple', 'b': 'banana'}\n",
      "{'a': 'apple', 'b': 'banana', 'c': 'coconut'}\n",
      "{'a': 'apple', 'b': 'banana', 'c': 'cucumber'}\n",
      "{'a': 'apple', 'b': 'banana', 'c': 'cucumber', 1: 13.2}\n",
      "{'a': ['apple'], 'b': ['banana'], 'c': ['coconut']}\n",
      "{'a': ['apple', 'apricot'], 'b': ['banana'], 'c': ['coconut']}\n",
      "a -->\n",
      "apple\n",
      "apricot\n",
      "\n",
      "b -->\n",
      "banana\n",
      "\n",
      "c -->\n",
      "coconut\n",
      "\n"
     ]
    }
   ],
   "source": [
    "dictionary = {\"a\": \"apple\", \"b\": \"banana\"}\n",
    "print(dictionary)\n",
    "\n",
    "dictionary[\"c\"] = \"coconut\"\n",
    "print(dictionary)\n",
    "\n",
    "dictionary[\"c\"] = \"cucumber\"\n",
    "print(dictionary)\n",
    "\n",
    "dictionary[1] = 13.2\n",
    "print(dictionary)\n",
    "\n",
    "dictionary_list = {\"a\":[\"apple\"], \"b\": [\"banana\"], \"c\" : [\"coconut\"]}\n",
    "print(dictionary_list)\n",
    "\n",
    "dictionary_list[\"a\"].append(\"apricot\")\n",
    "print(dictionary_list)\n",
    "\n",
    "for key in dictionary_list:\n",
    "    print(key, \"-->\")\n",
    "    for value in dictionary_list[key]:\n",
    "        print(value)\n",
    "    print()"
   ]
  },
  {
   "cell_type": "markdown",
   "metadata": {},
   "source": [
    "## Overview COLLECTIONS:\n",
    "### LIST []\n",
    "### TUPLE ()\n",
    "### SET {}\n",
    "### DICTIONARY {key : value}"
   ]
  }
 ],
 "metadata": {
  "kernelspec": {
   "display_name": "Python 3",
   "language": "python",
   "name": "python3"
  },
  "language_info": {
   "codemirror_mode": {
    "name": "ipython",
    "version": 3
   },
   "file_extension": ".py",
   "mimetype": "text/x-python",
   "name": "python",
   "nbconvert_exporter": "python",
   "pygments_lexer": "ipython3",
   "version": "3.11.8"
  }
 },
 "nbformat": 4,
 "nbformat_minor": 2
}
