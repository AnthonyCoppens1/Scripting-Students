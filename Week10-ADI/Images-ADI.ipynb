{
 "cells": [
  {
   "cell_type": "markdown",
   "metadata": {},
   "source": [
    "# Images - week 10\n",
    "## herhalingsoefening voor het downloaden van foto's\n",
    "\n",
    "--> api.chucknorris.io\n",
    "--> download alle foto's van https://en.wikipedia.org/wiki/Chuck_Norris"
   ]
  },
  {
   "cell_type": "code",
   "execution_count": 4,
   "metadata": {},
   "outputs": [
    {
     "name": "stdout",
     "output_type": "stream",
     "text": [
      "freddie crougar once impersonated Chuck Norris and that is the reason why we have nightmares\n",
      "downloaded 220px-Chuck_Norris_May_2015.jpg\n",
      "downloaded 150px-Chuck_Norris_%281976%29.jpg\n",
      "downloaded 220px-Chuck_Norris%2C_The_Delta_Force_1986.jpg\n",
      "downloaded 220px-050624-N-5248R-002.jpg\n",
      "downloaded 220px-Chuck_Norris_in_Iraq_in_2006.jpg\n",
      "downloaded 170px-Chuck_Norris_Hollywood_Star.jpg\n",
      "downloaded 170px-Chuck_Norris.jpg\n",
      "downloaded 220px-George_W._Bush_and_Chuck_Norris.jpg\n",
      "downloaded 150px-ChuckNorris-18FEB2016.jpg\n"
     ]
    }
   ],
   "source": [
    "import requests\n",
    "from bs4 import BeautifulSoup\n",
    "\n",
    "url = \"https://api.chucknorris.io/jokes/random\"\n",
    "response = requests.get(url)\n",
    "print(response.json()[\"value\"])\n",
    "\n",
    "url = \"https://en.wikipedia.org/wiki/Chuck_Norris\"\n",
    "response = requests.get(url)\n",
    "soup = BeautifulSoup(response.text)\n",
    "\n",
    "img_tags = soup.find_all(\"img\")\n",
    "\n",
    "for img in img_tags:\n",
    "    if img[\"src\"].endswith(\".jpg\"):\n",
    "        parts = img[\"src\"].split(\"/\")\n",
    "        with open(\"ChuckNorris/\" + parts[-1], \"wb\") as imagefile:\n",
    "            response = requests.get(\"http:\" + img[\"src\"])\n",
    "            imagefile.write(response.content)\n",
    "            print(\"downloaded\", parts[-1])\n",
    "\n",
    "\n"
   ]
  },
  {
   "cell_type": "markdown",
   "metadata": {},
   "source": [
    "## computer images\n",
    "install --> pillow package"
   ]
  },
  {
   "cell_type": "code",
   "execution_count": 5,
   "metadata": {},
   "outputs": [
    {
     "name": "stdout",
     "output_type": "stream",
     "text": [
      "Requirement already satisfied: Pillow in c:\\users\\antho\\appdata\\local\\packages\\pythonsoftwarefoundation.python.3.11_qbz5n2kfra8p0\\localcache\\local-packages\\python311\\site-packages (10.3.0)\n"
     ]
    }
   ],
   "source": [
    "! pip install Pillow"
   ]
  },
  {
   "cell_type": "code",
   "execution_count": 11,
   "metadata": {},
   "outputs": [
    {
     "name": "stdout",
     "output_type": "stream",
     "text": [
      "(0, 0, 255, 255)\n",
      "(255, 192, 203, 255)\n",
      "(210, 105, 30, 255)\n",
      "(178, 34, 34, 255)\n",
      "(102, 51, 153, 255)\n"
     ]
    }
   ],
   "source": [
    "from PIL import ImageColor\n",
    "\n",
    "print(ImageColor.getcolor('blue', 'RGBA'))\n",
    "print(ImageColor.getcolor('pink', 'RGBA'))\n",
    "print(ImageColor.getcolor('chocolate', 'RGBA'))\n",
    "print(ImageColor.getcolor('firebrick', 'RGBA'))\n",
    "print(ImageColor.getcolor('rebeccapurple', 'RGBA'))"
   ]
  },
  {
   "cell_type": "markdown",
   "metadata": {},
   "source": [
    "https://pillow.readthedocs.io/en/stable/\n",
    "\n",
    "Download all kleuren van colours.txt van Canvas:\n",
    "- AliceBlue\n",
    "- AntiqueWhite\n",
    "- Aqua\n",
    "\n",
    "\n",
    "Maak hiervan een csv-file met het volgende format:\n",
    "- Color, R, G, B, A\n",
    "- AliceBlue, 240, 248, 255, 255\n",
    "- AntiqueWhite, 250, 235, 215, 255\n"
   ]
  },
  {
   "cell_type": "code",
   "execution_count": 12,
   "metadata": {},
   "outputs": [],
   "source": [
    "\n",
    "from PIL import ImageColor\n",
    "\n",
    "csvfile = open(\"colours.csv\", \"w\")\n",
    "csvfile.write(\"Color, R, G, B, A\\n\")\n",
    "\n",
    "with open(\"colours.txt\", \"r\") as file:\n",
    "    for colour in file.readlines():\n",
    "        colourname = colour.strip()\n",
    "        rgba = ImageColor.getcolor(colourname, 'RGBA')\n",
    "\n",
    "        csvfile.write(colourname + \",\" + str(rgba[0]) + \",\" + str(rgba[1]) + \",\" + str(rgba[2]) + \",\" + str(rgba[3]) + \"\\n\")\n",
    "\n",
    "\n",
    "csvfile.close()"
   ]
  },
  {
   "cell_type": "markdown",
   "metadata": {},
   "source": [
    "## afbeeldingen manipuleren\n",
    "<img src=\"bird.jpg\">\n",
    "\n",
    "### Image properties"
   ]
  },
  {
   "cell_type": "code",
   "execution_count": 23,
   "metadata": {},
   "outputs": [
    {
     "name": "stdout",
     "output_type": "stream",
     "text": [
      "<PIL.JpegImagePlugin.JpegImageFile image mode=RGB size=640x424 at 0x250ABE83950>\n",
      "424 640\n",
      "(640, 424)\n",
      "640\n",
      "C:\\Users\\antho\\OneDrive\\Documenten\\Anthony-TM\\Scripting\\Scripting-Students\\Week10-ADI\\bird.jpg\n",
      "JPEG\n",
      "JPEG (ISO 10918)\n",
      "Portable network graphics\n"
     ]
    }
   ],
   "source": [
    "from PIL import Image\n",
    "\n",
    "img = Image.open(\"bird.jpg\")\n",
    "print(img)\n",
    "print(img.height, img.width)\n",
    "print(img.size)\n",
    "\n",
    "width, height = img.size\n",
    "print(width)\n",
    "print(img.filename)\n",
    "print(img.format)\n",
    "\n",
    "img.show()\n",
    "\n",
    "#change format\n",
    "print(img.format_description)\n",
    "img.save(\"bird.png\")\n",
    "\n",
    "pngimg = Image.open(\"bird.png\")\n",
    "print(pngimg.format_description)\n",
    "\n",
    "pngimg.show()"
   ]
  },
  {
   "cell_type": "markdown",
   "metadata": {},
   "source": [
    "### Bijsnijden van foto's"
   ]
  },
  {
   "cell_type": "code",
   "execution_count": 24,
   "metadata": {},
   "outputs": [],
   "source": [
    "from PIL import Image\n",
    "img = Image.open(\"bird.jpg\")\n",
    "img = img.crop((260,150,400,370))\n",
    "img.save(\"cropped_bird.jpg\")\n",
    "img.show()"
   ]
  },
  {
   "cell_type": "markdown",
   "metadata": {},
   "source": [
    "### afbeeldingen maken uit net niets"
   ]
  },
  {
   "cell_type": "code",
   "execution_count": 28,
   "metadata": {},
   "outputs": [],
   "source": [
    "from PIL import Image\n",
    "img = Image.new('RGBA', (100,200), 'purple')\n",
    "img.save('purple.png')\n",
    "img.show()\n",
    "\n",
    "img = Image.new('RGBA', (400,400), 'RebeccaPurple')\n",
    "img.save('Rebecca.png')\n",
    "img.show()\n",
    "\n",
    "img = Image.new('RGBA', (20,20))\n",
    "img.save('nocolour.png')\n",
    "img.show() # --> transparant\n",
    "\n",
    "img = Image.new('RGBA', (200,200), (0,255,0,100))\n",
    "img.save('groen.png')\n",
    "img.show()"
   ]
  },
  {
   "cell_type": "markdown",
   "metadata": {},
   "source": [
    "# kopiëren en plakken van foto's"
   ]
  },
  {
   "cell_type": "code",
   "execution_count": 36,
   "metadata": {},
   "outputs": [],
   "source": [
    "from PIL import Image\n",
    "\n",
    "img = Image.open('bird.jpg')\n",
    "crop = img.crop((260,150,400,370))\n",
    "\n",
    "copyimg = img.copy()\n",
    "copyimg.paste(crop,(0,0)) #links bovenaan\n",
    "copyimg.paste(crop,(500,0)) #rechts bovenaan\n",
    "copyimg.paste(crop,(600,150)) #vogel valt eraf!\n",
    "\n",
    "copyimg.show()\n",
    "copyimg.save(\"bird2.jpg\")"
   ]
  },
  {
   "cell_type": "code",
   "execution_count": 55,
   "metadata": {},
   "outputs": [],
   "source": [
    "#schaakbord van vogels\n",
    "\n",
    "from PIL import Image\n",
    "img = Image.new('RGBA', (400,200), 'RebeccaPurple')\n",
    "cropped = Image.open(\"cropped_bird.jpg\")\n",
    "\n",
    "copy = cropped.copy()\n",
    "img.paste(copy, (0,0))\n",
    "\n",
    "croppeddodo = Image.open(\"minidodo.png\")\n",
    "copydodo = croppeddodo.copy()\n",
    "img.paste(copydodo, (140,0))\n",
    "\n",
    "img.save(\"rebeccabird.gif\")\n",
    "\n",
    "BENDEVOGELS = Image.new('RGBA', (img.width*10, img.height*10), \"white\")\n",
    "for i in range(0,10):\n",
    "    for j in range(0,10):\n",
    "        if (i+j) % 2 == 0:\n",
    "            BENDEVOGELS.paste(img, (i*img.width, j*img.height))\n",
    "        else:\n",
    "            omgedraaid = img.transpose(Image.FLIP_LEFT_RIGHT)\n",
    "            BENDEVOGELS.paste(omgedraaid, (i*omgedraaid.width, j*omgedraaid.height))\n",
    "\n",
    "BENDEVOGELS.save(\"BENDEVOGELS.gif\")\n",
    "BENDEVOGELS.show()\n"
   ]
  },
  {
   "cell_type": "code",
   "execution_count": 59,
   "metadata": {},
   "outputs": [],
   "source": [
    "#schaakbord van vogels\n",
    "\n",
    "from PIL import Image\n",
    "img = Image.new('RGBA', (400,200), 'RebeccaPurple')\n",
    "cropped = Image.open(\"cropped_bird.jpg\")\n",
    "\n",
    "copy = cropped.copy()\n",
    "img.paste(copy, (0,0))\n",
    "img.save(\"aliceblue.gif\")\n",
    "\n",
    "img = Image.new('RGBA', (cropped.width*10, cropped.height*10), \"white\")\n",
    "for i in range(0,10):\n",
    "    for j in range(0,10):\n",
    "        if (i+j) % 2 == 0:\n",
    "            img.paste(copy, (i*cropped.width, j*cropped.height))\n",
    "\n",
    "img.save(\"birdies.gif\")\n",
    "img.show()\n"
   ]
  },
  {
   "cell_type": "code",
   "execution_count": 49,
   "metadata": {},
   "outputs": [
    {
     "name": "stdout",
     "output_type": "stream",
     "text": [
      "(3340, 2488)\n",
      "(320, 212)\n",
      "(640, 848)\n"
     ]
    }
   ],
   "source": [
    "from PIL import Image\n",
    "\n",
    "img = Image.open(\"dodo.png\")\n",
    "print(img.size)\n",
    "halvedodo = img.resize((int(width/2), int(height/2)))\n",
    "halvedodo.save(\"minidodo.png\")\n",
    "\n",
    "img = Image.open(\"minidodo.png\")\n",
    "print(img.size)"
   ]
  },
  {
   "cell_type": "markdown",
   "metadata": {},
   "source": [
    "### foto transformaties"
   ]
  },
  {
   "cell_type": "code",
   "execution_count": 66,
   "metadata": {},
   "outputs": [],
   "source": [
    "from PIL import Image\n",
    "img = Image.open(\"bird.jpg\")\n",
    "img.rotate(90)\n",
    "img.rotate(-90)\n",
    "img.rotate(180)\n",
    "\n",
    "img.transpose(Image.FLIP_LEFT_RIGHT).show()\n",
    "img.transpose(Image.FLIP_TOP_BOTTOM).show()\n",
    "\n",
    "halfsize = img.resize((int(width/2), int(height/2)))\n",
    "halfsize.save(\"halfsize.png\")\n"
   ]
  },
  {
   "cell_type": "markdown",
   "metadata": {},
   "source": [
    "### loop over foto pixel per pixel\n",
    "leren spelen met kleuren"
   ]
  },
  {
   "cell_type": "code",
   "execution_count": 67,
   "metadata": {},
   "outputs": [],
   "source": [
    "from PIL import Image\n",
    "img = Image.open(\"cropped_bird.jpg\")\n",
    "for x in range(0, img.width):\n",
    "    for y in range(0, img.height):\n",
    "        r,g,b = img.getpixel((x,y))\n",
    "        inverted = (255-r, 255-g, 255-b)\n",
    "        img.putpixel((x,y), inverted)\n",
    "\n",
    "img.save(\"inverted.png\")\n",
    "img.show()"
   ]
  },
  {
   "cell_type": "code",
   "execution_count": 68,
   "metadata": {},
   "outputs": [],
   "source": [
    "from PIL import Image\n",
    "\n",
    "img = Image.open(\"bird.jpg\")\n",
    "red_img = Image.new('RGBA', img.size, \"white\")\n",
    "zonderblauw = Image.new('RGBA', img.size, \"white\")\n",
    "\n",
    "for i in range(0, img.width):\n",
    "    for j in range(0, img.height):\n",
    "        pixel = img.getpixel((i,j))\n",
    "        red_img.putpixel((i,j), (255, pixel[1], pixel[2]))\n",
    "        zonderblauw.putpixel((i,j), (pixel[0], pixel[1], 0))\n",
    "\n",
    "red_img.save(\"bird_red.gif\")\n",
    "zonderblauw.save(\"zonderblauwvogel.gif\")\n",
    "\n",
    "red_img.show()\n",
    "zonderblauw.show()"
   ]
  },
  {
   "cell_type": "markdown",
   "metadata": {},
   "source": [
    "### convert / invert foto's"
   ]
  },
  {
   "cell_type": "code",
   "execution_count": 69,
   "metadata": {},
   "outputs": [],
   "source": [
    "from PIL import Image\n",
    "img = Image.open(\"bird.jpg\")\n",
    "img = img.convert(\"L\")\n",
    "img.show()"
   ]
  },
  {
   "cell_type": "code",
   "execution_count": 70,
   "metadata": {},
   "outputs": [],
   "source": [
    "#nog een andere manier om te converten\n",
    "\n",
    "from PIL import Image, ImageChops\n",
    "\n",
    "img = Image.open(\"cropped_bird.jpg\")\n",
    "img = ImageChops.invert(img)\n",
    "img.show()"
   ]
  },
  {
   "cell_type": "markdown",
   "metadata": {},
   "source": [
    "## tekenen op foto's\n",
    "figuren en tekst\n",
    "voor tekst --> lettertype stijl bijvoegen"
   ]
  },
  {
   "cell_type": "code",
   "execution_count": 77,
   "metadata": {},
   "outputs": [],
   "source": [
    "from PIL import Image, ImageDraw\n",
    "img = Image.new('RGBA', (200,200), \"white\")\n",
    "draw = ImageDraw.Draw(img)\n",
    "\n",
    "draw.line([(0,0), (100,100)], fill = \"black\")\n",
    "draw.rectangle((20,30,60,60), fill = \"red\")\n",
    "draw.ellipse((120,30,160,60), fill = \"rebeccapurple\")\n",
    "draw.polygon(((50,25), (75,35), (100,100), (125,80), (0,0)), fill = \"blue\")\n",
    "\n",
    "for i in range(100,200,10):\n",
    "    draw.line([(i,0), (200,i-100)], fill = \"green\")\n",
    "\n",
    "\n",
    "img.show()"
   ]
  },
  {
   "cell_type": "code",
   "execution_count": 79,
   "metadata": {},
   "outputs": [],
   "source": [
    "from PIL import Image, ImageDraw, ImageFont\n",
    "import os\n",
    "\n",
    "img = Image.new('RGBA', (200,200), \"white\")\n",
    "draw = ImageDraw.Draw(img)\n",
    "\n",
    "draw.text((20,150),'Hallo', fill = 'purple')\n",
    "lettertypeMap = 'FONT_FOLDER'\n",
    "arialFont = ImageFont.truetype(os.path.join(lettertypeMap, 'arial.ttf'), 32) #kan ook .otf zijn\n",
    "draw.text((100,150), 'Test2', fill = 'gray', font = arialFont)\n",
    "\n",
    "img.show()"
   ]
  }
 ],
 "metadata": {
  "kernelspec": {
   "display_name": "Python 3",
   "language": "python",
   "name": "python3"
  },
  "language_info": {
   "codemirror_mode": {
    "name": "ipython",
    "version": 3
   },
   "file_extension": ".py",
   "mimetype": "text/x-python",
   "name": "python",
   "nbconvert_exporter": "python",
   "pygments_lexer": "ipython3",
   "version": "3.11.9"
  }
 },
 "nbformat": 4,
 "nbformat_minor": 2
}
