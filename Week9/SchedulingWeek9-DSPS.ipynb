{
 "cells": [
  {
   "cell_type": "markdown",
   "metadata": {},
   "source": [
    "# Scheduling - lesson 9\n",
    "- (Date)time module\n",
    "- Single vs multithreading\n",
    "- Launching programs\n",
    "\n",
    "## (Date)time module\n",
    "see unix epoch converter online:\n",
    "https://www.epochconverter.com/"
   ]
  },
  {
   "cell_type": "code",
   "execution_count": 31,
   "metadata": {},
   "outputs": [
    {
     "name": "stdout",
     "output_type": "stream",
     "text": [
      "1713862553.131396\n",
      "Tue Apr 23 10:55:53 2024\n",
      "Thu Jan  1 01:00:00 1970\n",
      "Tue Apr 23 10:05:46 2024\n",
      "Tue Apr 23 10:13:07 2024\n"
     ]
    }
   ],
   "source": [
    "import time #module for UNIX EPOCH TIME\n",
    "\n",
    "print(time.time())\n",
    "print(time.ctime())\n",
    "print(time.ctime(0)) #official starting time for datetime\n",
    "\n",
    "#check diff in seconds\n",
    "print(time.ctime(1713859546.201605))\n",
    "print(time.ctime(1713859987))"
   ]
  },
  {
   "cell_type": "markdown",
   "metadata": {},
   "source": [
    "### Exercise\n",
    "Count number of seconds needed to consume an API (any api, but we use https://rapidapi.com/apininjas/api/facts-by-api-ninjas/)"
   ]
  },
  {
   "cell_type": "code",
   "execution_count": 12,
   "metadata": {},
   "outputs": [
    {
     "name": "stdout",
     "output_type": "stream",
     "text": [
      "In Japan, tipping at restaurants is not a norm. However, some restaurants might add a 5 - 10 % service charge to the bill\n",
      "It took 0.6444826126098633 seconds to run this script!\n"
     ]
    }
   ],
   "source": [
    "import requests\n",
    "import time\n",
    "\n",
    "url = \"https://facts-by-api-ninjas.p.rapidapi.com/v1/facts\"\n",
    "\n",
    "headers = {\n",
    "\t\"X-RapidAPI-Key\": \"fd6f435c07msh3de62319fcfa275p143e5cjsn4293d86a9f09\",\n",
    "\t\"X-RapidAPI-Host\": \"facts-by-api-ninjas.p.rapidapi.com\"\n",
    "}\n",
    "\n",
    "starttime = time.time() #check time before our request\n",
    "\n",
    "response = requests.get(url, headers=headers)\n",
    "print(response.json()[0][\"fact\"])\n",
    "\n",
    "stoptime = time.time()\n",
    "seconds = stoptime - starttime\n",
    "\n",
    "print(\"It took\", seconds, \"seconds to run this script!\")"
   ]
  },
  {
   "cell_type": "markdown",
   "metadata": {},
   "source": [
    "### If you're tired go to bed, go sleep a second"
   ]
  },
  {
   "cell_type": "code",
   "execution_count": null,
   "metadata": {},
   "outputs": [],
   "source": [
    "! pip install pygame"
   ]
  },
  {
   "cell_type": "code",
   "execution_count": 26,
   "metadata": {},
   "outputs": [],
   "source": [
    "import time, winsound, pygame\n",
    "\n",
    "for i in range(0,5):\n",
    "    winsound.Beep(500,300)\n",
    "    time.sleep(1)\n",
    "\n",
    "pygame.mixer.init()\n",
    "pygame.mixer.music.load(\"explosion.mp3\")\n",
    "pygame.mixer.music.play()\n",
    "\n",
    "while pygame.mixer.music.get_busy() == True:\n",
    "    continue"
   ]
  },
  {
   "cell_type": "markdown",
   "metadata": {},
   "source": [
    "### Work with date-formats"
   ]
  },
  {
   "cell_type": "code",
   "execution_count": 38,
   "metadata": {},
   "outputs": [
    {
     "name": "stdout",
     "output_type": "stream",
     "text": [
      "2024-04-23 11:04:20.299588\n",
      "2000-05-10 00:00:00\n",
      "2000 5 10 0 0 0\n",
      "1970-01-01 03:46:40\n",
      "2024-04-23 10:55:53.131396\n",
      "2024-04-23 11:04:20.300594\n",
      "2024-04-23 11:04:20\n",
      "10 May 00\n",
      "day 131 of 2000\n",
      "04 February 03\n"
     ]
    }
   ],
   "source": [
    "import datetime as dt\n",
    "\n",
    "print(dt.datetime.now())\n",
    "\n",
    "date = dt.datetime(2000,5,10,0,0,0)\n",
    "print(date)\n",
    "\n",
    "print(date.year, date.month, date.day, date.hour, date.minute, date.second)\n",
    "print(dt.datetime.fromtimestamp(10000))\n",
    "print(dt.datetime.fromtimestamp(1713862553.131396))\n",
    "\n",
    "print(dt.datetime.fromtimestamp(time.time()))\n",
    "print(dt.datetime.fromtimestamp(round(time.time(),0)))\n",
    "\n",
    "\n",
    "# from datetime to a string --> strftime()\n",
    "print(date.strftime(\"%d %B %y\"))\n",
    "print(date.strftime(\"day %j of %Y\"))\n",
    "#check strftime codes https://www.programiz.com/python-programming/datetime/strftime\n",
    "\n",
    "date += dt.timedelta(days=1000)\n",
    "print(date.strftime(\"%d %B %y\"))\n",
    "\n",
    "#timedelta usually used to calc difference in time or to show a diff\n"
   ]
  },
  {
   "cell_type": "markdown",
   "metadata": {},
   "source": [
    "## Multithreading\n",
    "Python default programs run always as a single-threaded process, so it can only execute one thing at a time.\n",
    "A multithreaded program can execute multiple things"
   ]
  },
  {
   "cell_type": "code",
   "execution_count": 39,
   "metadata": {},
   "outputs": [],
   "source": [
    "import time\n",
    "\n",
    "def sleep():\n",
    "    time.sleep(5)\n",
    "    print(\"WAKE UP!\")\n",
    "\n",
    "def multiplication(number):\n",
    "    for i in range(0,10):\n",
    "        print(i, \"* number =\", i * number)"
   ]
  },
  {
   "cell_type": "code",
   "execution_count": 40,
   "metadata": {},
   "outputs": [
    {
     "name": "stdout",
     "output_type": "stream",
     "text": [
      "START\n",
      "WAKE UP!\n",
      "0 * number = 0\n",
      "1 * number = 5\n",
      "2 * number = 10\n",
      "3 * number = 15\n",
      "4 * number = 20\n",
      "5 * number = 25\n",
      "6 * number = 30\n",
      "7 * number = 35\n",
      "8 * number = 40\n",
      "9 * number = 45\n",
      "STOP\n"
     ]
    }
   ],
   "source": [
    "#single threading\n",
    "print(\"START\")\n",
    "sleep()\n",
    "multiplication(5)\n",
    "print(\"STOP\")"
   ]
  },
  {
   "cell_type": "code",
   "execution_count": 43,
   "metadata": {},
   "outputs": [
    {
     "name": "stdout",
     "output_type": "stream",
     "text": [
      "0 * number = 0\n",
      "1 * number = 5\n",
      "2 * number = 10\n",
      "3 * number = 15\n",
      "4 * number = 20\n",
      "5 * number = 25\n",
      "6 * number = 30\n",
      "7 * number = 35\n",
      "8 * number = 40\n",
      "9 * number = 45\n",
      "START\n",
      "STOP\n"
     ]
    },
    {
     "name": "stdout",
     "output_type": "stream",
     "text": [
      "WAKE UP!\n"
     ]
    }
   ],
   "source": [
    "#multithreading\n",
    "\n",
    "import threading\n",
    "thread_sleep = threading.Thread(target=sleep)\n",
    "thread_multi = threading.Thread(target=multiplication(5))\n",
    "\n",
    "print(\"START\")\n",
    "thread_sleep.start()\n",
    "thread_multi.start()\n",
    "print(\"STOP\")"
   ]
  },
  {
   "cell_type": "markdown",
   "metadata": {},
   "source": [
    "### Exercise\n",
    "Write a program that performs the following steps:\n",
    "\n",
    "Create 2 functions --> function1() and function2()\n",
    "- function1() --> print number 1 --> 10 with delay of 0.5 seconds between each number that is printed \n",
    "- function2() --> print letter A --> J with delay of 0.5 seconds between each letter that is printed\n",
    "- create 2 threads, one for each function, start simultaneously\n",
    "- wait for both to finish before exiting your program\n",
    "\n",
    "1 A 2 B 3 C 4 E ..."
   ]
  },
  {
   "cell_type": "code",
   "execution_count": 46,
   "metadata": {},
   "outputs": [
    {
     "name": "stdout",
     "output_type": "stream",
     "text": [
      "START\n",
      "1 A 2B  C 3 D 4 E 5 F 6 G 7 H 8 I 9 J10  STOP\n"
     ]
    }
   ],
   "source": [
    "import time, threading\n",
    "\n",
    "def function1():\n",
    "    for i in range(1,11):\n",
    "        print(i, end=\" \")\n",
    "        time.sleep(0.5)\n",
    "\n",
    "def function2():\n",
    "    for c in \"ABCDEFGHIJ\":\n",
    "        print(c, end = \" \")\n",
    "        time.sleep(0.5)\n",
    "\n",
    "thread_1 = threading.Thread(target=function1)\n",
    "thread_2 = threading.Thread(target=function2)\n",
    "\n",
    "print(\"START\")\n",
    "thread_1.start()\n",
    "thread_2.start()\n",
    "thread_1.join()\n",
    "thread_2.join()\n",
    "print(\"STOP\")\n",
    "\n",
    "#output being weird? --> CONCURRENCY\n",
    "#Effect of multithreading and sleep() combined with print()\n",
    "#can be split, but performance will drastically reduce."
   ]
  },
  {
   "cell_type": "markdown",
   "metadata": {},
   "source": [
    "## Launching programs"
   ]
  },
  {
   "cell_type": "code",
   "execution_count": 51,
   "metadata": {},
   "outputs": [
    {
     "data": {
      "text/plain": [
       "<Popen: returncode: None args: 'C:\\\\Program Files\\\\Microsoft Office\\\\root\\\\O...>"
      ]
     },
     "execution_count": 51,
     "metadata": {},
     "output_type": "execute_result"
    }
   ],
   "source": [
    "import subprocess\n",
    "subprocess.Popen(\"calc.exe\")\n",
    "\n",
    "subprocess.Popen(r'C:\\Program Files\\Microsoft Office\\root\\Office16\\WINWORD.EXE')"
   ]
  },
  {
   "cell_type": "code",
   "execution_count": 58,
   "metadata": {},
   "outputs": [
    {
     "name": "stdout",
     "output_type": "stream",
     "text": [
      "None\n",
      "hello\n"
     ]
    }
   ],
   "source": [
    "import subprocess\n",
    "\n",
    "paint = subprocess.Popen(\"mspaint.exe\")\n",
    "print(paint.poll())\n",
    "\n",
    "#returns None if process is still running, \n",
    "#returns the exit code when a program is terminated (0 when it happened without errors)\n",
    "\n",
    "paint.wait()\n",
    "#blocks execution until launched process is stopped\n",
    "#print(\"hello\")"
   ]
  },
  {
   "cell_type": "markdown",
   "metadata": {},
   "source": [
    "### Launching a file in its default application\n",
    "open --> macOS<br>\n",
    "start --> windows<br>\n",
    "see --> linux"
   ]
  },
  {
   "cell_type": "code",
   "execution_count": 63,
   "metadata": {},
   "outputs": [
    {
     "data": {
      "text/plain": [
       "<Popen: returncode: None args: ['start', 'explosion.mp3']>"
      ]
     },
     "execution_count": 63,
     "metadata": {},
     "output_type": "execute_result"
    }
   ],
   "source": [
    "import subprocess\n",
    "file = open(\"file.txt\", \"w\")\n",
    "file.write(\"Hello world\")\n",
    "file.close()\n",
    "\n",
    "subprocess.Popen(['start','file.txt'], shell = True)\n",
    "subprocess.Popen(['start', 'explosion.mp3'], shell = True)"
   ]
  },
  {
   "cell_type": "code",
   "execution_count": 66,
   "metadata": {},
   "outputs": [
    {
     "data": {
      "text/plain": [
       "True"
      ]
     },
     "execution_count": 66,
     "metadata": {},
     "output_type": "execute_result"
    }
   ],
   "source": [
    "# WEBBROWSERS\n",
    "import webbrowser\n",
    "\n",
    "webbrowser.open('https://google.be')\n",
    "webbrowser.open('https://wikipedia.org')"
   ]
  },
  {
   "cell_type": "code",
   "execution_count": 67,
   "metadata": {},
   "outputs": [],
   "source": [
    "import requests\n",
    "from bs4 import BeautifulSoup\n",
    "import threading\n",
    "import subprocess\n",
    "import re\n",
    "\n",
    "def scrape(year):\n",
    "    url = f\"https://www.officialcharts.com/charts/end-of-year-singles-chart/{year}0101/37501/\"\n",
    "\n",
    "    response = requests.get(url)\n",
    "    soup = BeautifulSoup(response.text)\n",
    "    \n",
    "    div_tags = soup.find_all('span')\n",
    "    regex = re.findall(r'<span>([^<]+)</span>',str(div_tags))\n",
    "\n",
    "\n",
    "    file = open(\"files/charts_\" + str(year)+\".txt\",\"w\", encoding=\"utf-8\")\n",
    "    for i in regex:\n",
    "        if i.isupper() == True:\n",
    "            file.write(i + \"\\n\")\n",
    "    file.close\n",
    "\n",
    "start = int(input(\"Start year\"))\n",
    "end = int(input(\"End year\"))\n",
    "\n",
    "for year in range(start,end+1):\n",
    "    thread = threading.Thread(target=scrape(year))\n",
    "    thread.start()\n",
    "\n",
    "scrape(2001)"
   ]
  }
 ],
 "metadata": {
  "kernelspec": {
   "display_name": "Python 3",
   "language": "python",
   "name": "python3"
  },
  "language_info": {
   "codemirror_mode": {
    "name": "ipython",
    "version": 3
   },
   "file_extension": ".py",
   "mimetype": "text/x-python",
   "name": "python",
   "nbconvert_exporter": "python",
   "pygments_lexer": "ipython3",
   "version": "3.11.9"
  }
 },
 "nbformat": 4,
 "nbformat_minor": 2
}
