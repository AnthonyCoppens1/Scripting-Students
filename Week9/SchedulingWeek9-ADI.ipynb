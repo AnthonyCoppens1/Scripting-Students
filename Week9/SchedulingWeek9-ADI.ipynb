{
 "cells": [
  {
   "cell_type": "markdown",
   "metadata": {},
   "source": [
    "# Scheduling - week 9\n",
    "- (Date)time module\n",
    "- Multithreading\n",
    "- Programma's lanceren\n",
    "\n",
    "## (Date)time module\n"
   ]
  },
  {
   "cell_type": "code",
   "execution_count": 6,
   "metadata": {},
   "outputs": [
    {
     "name": "stdout",
     "output_type": "stream",
     "text": [
      "1713949261.5626981\n",
      "Wed Apr 24 11:01:01 2024\n",
      "Thu Jan  1 01:00:00 1970\n",
      "Sat May 16 23:04:59 2026\n"
     ]
    }
   ],
   "source": [
    "import time\n",
    "\n",
    "print(time.time())\n",
    "print(time.ctime())\n",
    "print(time.ctime(0))\n",
    "print(time.ctime(1778965499))"
   ]
  },
  {
   "cell_type": "markdown",
   "metadata": {},
   "source": [
    "### Oefening\n",
    "Count number of seconds needed to consume an API (any API, but we use https://rapidapi.com/apininjas/api/facts-by-api-ninjas/)"
   ]
  },
  {
   "cell_type": "code",
   "execution_count": 4,
   "metadata": {},
   "outputs": [
    {
     "name": "stdout",
     "output_type": "stream",
     "text": [
      "het duurde 0.8010783195495605 seconden om dit script te doorlopen!\n",
      "Native Americans used to use pumpkin seeds for medicine\n"
     ]
    }
   ],
   "source": [
    "import requests\n",
    "import time\n",
    "\n",
    "url = \"https://facts-by-api-ninjas.p.rapidapi.com/v1/facts\"\n",
    "\n",
    "headers = {\n",
    "\t\"X-RapidAPI-Key\": \"fd6f435c07msh3de62319fcfa275p143e5cjsn4293d86a9f09\",\n",
    "\t\"X-RapidAPI-Host\": \"facts-by-api-ninjas.p.rapidapi.com\"\n",
    "}\n",
    "start = time.time()\n",
    "response = requests.get(url, headers=headers)\n",
    "\n",
    "stop = time.time()\n",
    "\n",
    "seconden = stop - start\n",
    "print(\"het duurde\", seconden, \"seconden om dit script te doorlopen!\")\n",
    "\n",
    "print(response.json()[0][\"fact\"])"
   ]
  },
  {
   "cell_type": "markdown",
   "metadata": {},
   "source": [
    "### Ga slapen als je moe bent!"
   ]
  },
  {
   "cell_type": "code",
   "execution_count": 5,
   "metadata": {},
   "outputs": [
    {
     "name": "stdout",
     "output_type": "stream",
     "text": [
      "Requirement already satisfied: pygame in c:\\users\\antho\\appdata\\local\\packages\\pythonsoftwarefoundation.python.3.11_qbz5n2kfra8p0\\localcache\\local-packages\\python311\\site-packages (2.5.2)\n"
     ]
    }
   ],
   "source": [
    "! pip install pygame"
   ]
  },
  {
   "cell_type": "code",
   "execution_count": 9,
   "metadata": {},
   "outputs": [],
   "source": [
    "import time, winsound, pygame\n",
    "\n",
    "for i in range(0,5):\n",
    "    winsound.Beep(500,300)\n",
    "    time.sleep(1)\n",
    "\n",
    "pygame.mixer.init()\n",
    "pygame.mixer.music.load(\"explosion.mp3\")\n",
    "pygame.mixer.music.play()\n",
    "while pygame.mixer.music.get_busy() == True:\n",
    "    continue"
   ]
  },
  {
   "cell_type": "markdown",
   "metadata": {},
   "source": [
    "### Werken met date-formats"
   ]
  },
  {
   "cell_type": "code",
   "execution_count": 26,
   "metadata": {},
   "outputs": [
    {
     "name": "stdout",
     "output_type": "stream",
     "text": [
      "2024-04-24 11:39:10.125705\n",
      "2000-05-10 00:00:00\n",
      "2000 5 10 0 0 0\n",
      "2026-11-04 11:52:23\n",
      "2024-04-24 11:39:10.125705\n",
      "2024-04-24 11:39:10\n",
      "10 May 00\n",
      "datum: 10 May 2000\n",
      "day 131 van 2000\n",
      "11 February 03\n"
     ]
    }
   ],
   "source": [
    "import datetime as dt\n",
    "import time\n",
    "\n",
    "print(dt.datetime.now())\n",
    "\n",
    "datum = dt.datetime(2000,5,10,0,0,0)\n",
    "print(datum)\n",
    "print(datum.year, datum.month, datum.day, datum.hour, datum.minute, datum.second)\n",
    "print(dt.datetime.fromtimestamp(1793789543))\n",
    "print(dt.datetime.fromtimestamp(time.time()))\n",
    "\n",
    "print(dt.datetime.fromtimestamp(round(time.time(), 0)))\n",
    "\n",
    "\n",
    "#van datetime naar string --> strftime()\n",
    "print(datum.strftime(\"%d %B %y\"))\n",
    "print(datum.strftime(\"datum: %d %B %Y\"))\n",
    "print(datum.strftime(\"day %j van %Y\"))\n",
    "\n",
    "#timedelta --> tijd optellen\n",
    "datum += dt.timedelta(days=1000, weeks=1)\n",
    "print(datum.strftime(\"%d %B %y\"))\n",
    "\n",
    "#vaak gebruikt om verschillen in tijd te berekenen"
   ]
  },
  {
   "cell_type": "markdown",
   "metadata": {},
   "source": [
    "### Multithreading\n",
    "Python default programma's zijn single-threaded processen, kunnen maar 1 ding uitvoeren tegelijkertijd!\n",
    "Multithreaded programma's voeren meerdere dingen tegelijk uit."
   ]
  },
  {
   "cell_type": "code",
   "execution_count": 27,
   "metadata": {},
   "outputs": [],
   "source": [
    "import time\n",
    "\n",
    "def sleep():\n",
    "    time.sleep(5)\n",
    "    print(\"WAKE UP!\")\n",
    "\n",
    "def multiplication(getal):\n",
    "    for i in range(0,10):\n",
    "        print(i, \"* getal =\", i * getal)"
   ]
  },
  {
   "cell_type": "code",
   "execution_count": 29,
   "metadata": {},
   "outputs": [
    {
     "name": "stdout",
     "output_type": "stream",
     "text": [
      "START\n",
      "WAKE UP!\n",
      "0 * getal = 0\n",
      "1 * getal = 12\n",
      "2 * getal = 24\n",
      "3 * getal = 36\n",
      "4 * getal = 48\n",
      "5 * getal = 60\n",
      "6 * getal = 72\n",
      "7 * getal = 84\n",
      "8 * getal = 96\n",
      "9 * getal = 108\n",
      "STOP\n"
     ]
    }
   ],
   "source": [
    "#single threading\n",
    "print(\"START\")\n",
    "sleep()\n",
    "#time.sleep(10)\n",
    "multiplication(12)\n",
    "print(\"STOP\")"
   ]
  },
  {
   "cell_type": "code",
   "execution_count": null,
   "metadata": {},
   "outputs": [],
   "source": [
    "#multithreading\n",
    "import threading\n",
    "\n",
    "thread_sleep = threading.Thread(target=sleep)\n",
    "thread_multi = threading.Thread(target=multiplication(12))\n",
    "\n",
    "print(\"START\")\n",
    "thread_sleep.start()\n",
    "thread_multi.start()\n",
    "print(\"STOP\")"
   ]
  },
  {
   "cell_type": "markdown",
   "metadata": {},
   "source": [
    "### Oefening\n",
    "Schrijf een programma met de volgende stappen:\n",
    "Maak 2 functies --> functie1() en functie2()\n",
    "- functie1() --> getallen 1 tot 10 printen met delay van 0.5 seconden tussen ieder getal\n",
    "- functie2() --> letters A tot J printen met delay van 0.5 seconden tussen iedere letter\n",
    "- maak 2 threads, 1 voor iedere functie, gelijk starten\n",
    "- wacht tot beide klaar zijn voor het script stopt!\n",
    "\n",
    "1 A 2 B 3 C ..."
   ]
  },
  {
   "cell_type": "code",
   "execution_count": 34,
   "metadata": {},
   "outputs": [
    {
     "name": "stdout",
     "output_type": "stream",
     "text": [
      "START\n",
      "1 A 2 B 3 C 4 D E 5 F 6 G 7 H 8 I9  J10  11 12 13 14 15 16 17 18 19 20 21 22 23 24 25 26 27 28 29 30 31 32 33 34 35 36 37 38 39 40 41 42 43 44 45 46 47 48 49 STOP\n"
     ]
    }
   ],
   "source": [
    "import time, threading\n",
    "\n",
    "def functie1():\n",
    "    for i in range(1,11):\n",
    "        print(i, end=\" \")\n",
    "        time.sleep(0.5)\n",
    "\n",
    "def functie2():\n",
    "    for c in \"ABCDEFGHIJ\":\n",
    "        print(c, end=\" \")\n",
    "        time.sleep(0.5)\n",
    "\n",
    "thread_1 = threading.Thread(target=functie1)\n",
    "thread_2 = threading.Thread(target=functie2)\n",
    "\n",
    "print(\"START\")\n",
    "thread_1.start()\n",
    "thread_2.start()\n",
    "thread_1.join()\n",
    "thread_2.join()\n",
    "print(\"STOP\")\n",
    "\n",
    "#pas op voor CONCURRENCY\n",
    "#effect van multithreading en sleep in combinatie met print(), kan goed gesplitst, maar dan gaat performance\n",
    "#sterk achteruit"
   ]
  },
  {
   "cell_type": "markdown",
   "metadata": {},
   "source": [
    "### Launching program (programma's lanceren)"
   ]
  },
  {
   "cell_type": "code",
   "execution_count": 39,
   "metadata": {},
   "outputs": [
    {
     "data": {
      "text/plain": [
       "<Popen: returncode: None args: 'C:\\\\Program Files\\\\Microsoft Office\\\\root\\\\O...>"
      ]
     },
     "execution_count": 39,
     "metadata": {},
     "output_type": "execute_result"
    }
   ],
   "source": [
    "import subprocess\n",
    "\n",
    "subprocess.Popen(\"calc.exe\")\n",
    "subprocess.Popen(r\"C:\\Program Files\\Microsoft Office\\root\\Office16\\WINWORD.EXE\")"
   ]
  },
  {
   "cell_type": "code",
   "execution_count": 45,
   "metadata": {},
   "outputs": [
    {
     "name": "stdout",
     "output_type": "stream",
     "text": [
      "None\n",
      "Hello\n"
     ]
    }
   ],
   "source": [
    "import subprocess\n",
    "paint = subprocess.Popen(\"mspaint.exe\")\n",
    "print(paint.poll())\n",
    "paint.wait()\n",
    "print(\"Hello\")\n",
    "\n",
    "#returns none als programma steeds loopt, returns exit code wanneer programma wordt afgesloten (0 = zonder enige error)"
   ]
  },
  {
   "cell_type": "markdown",
   "metadata": {},
   "source": [
    "### Files lanceren in default applicatie\n",
    "\n",
    "open --> macOS<br>\n",
    "start --> windows<br>\n",
    "see --> linux"
   ]
  },
  {
   "cell_type": "code",
   "execution_count": 46,
   "metadata": {},
   "outputs": [
    {
     "data": {
      "text/plain": [
       "<Popen: returncode: None args: ['start', 'file.txt']>"
      ]
     },
     "execution_count": 46,
     "metadata": {},
     "output_type": "execute_result"
    }
   ],
   "source": [
    "import subprocess\n",
    "\n",
    "file = open(\"file.txt\", \"w\")\n",
    "file.write(\"Hello world\")\n",
    "file.close()\n",
    "\n",
    "subprocess.Popen(['start', 'file.txt'], shell= True)"
   ]
  },
  {
   "cell_type": "code",
   "execution_count": 53,
   "metadata": {},
   "outputs": [
    {
     "data": {
      "text/plain": [
       "<Popen: returncode: None args: ['start', 'explosion.mp3']>"
      ]
     },
     "execution_count": 53,
     "metadata": {},
     "output_type": "execute_result"
    }
   ],
   "source": [
    "import subprocess\n",
    "\n",
    "subprocess.Popen(['start', 'https://google.be'], shell = True)\n",
    "subprocess.Popen(['start', 'https://wikipedia.org'], shell=True)\n",
    "#zonder shell voor macOS\n",
    "\n",
    "subprocess.Popen(['start', 'explosion.mp3'], shell=True)"
   ]
  },
  {
   "cell_type": "code",
   "execution_count": 54,
   "metadata": {},
   "outputs": [
    {
     "data": {
      "text/plain": [
       "True"
      ]
     },
     "execution_count": 54,
     "metadata": {},
     "output_type": "execute_result"
    }
   ],
   "source": [
    "#webbrowsers openen\n",
    "import webbrowser\n",
    "\n",
    "webbrowser.open('https://google.be')"
   ]
  },
  {
   "cell_type": "code",
   "execution_count": 59,
   "metadata": {},
   "outputs": [],
   "source": [
    "import requests\n",
    "from bs4 import BeautifulSoup\n",
    "import threading\n",
    "import subprocess\n",
    "import re\n",
    "\n",
    "def scrape(year):\n",
    "    url = f\"https://www.officialcharts.com/charts/end-of-year-singles-chart/{year}0101/37501/\"\n",
    "\n",
    "    response = requests.get(url)\n",
    "    soup = BeautifulSoup(response.text)\n",
    "    \n",
    "    div_tags = soup.find_all('span')\n",
    "    regex = re.findall(r'<span>([^<]+)</span>',str(div_tags))\n",
    "\n",
    "\n",
    "    file = open(\"files/charts_\" + str(year)+\".txt\",\"w\", encoding=\"utf-8\")\n",
    "    for i in regex:\n",
    "        if i.isupper() == True:\n",
    "            file.write(i + \"\\n\")\n",
    "    file.close\n",
    "\n",
    "start = int(input(\"Start year\"))\n",
    "end = int(input(\"End year\"))\n",
    "\n",
    "for year in range(start,end+1):\n",
    "    thread = threading.Thread(target=scrape(year))\n",
    "    thread.start()\n",
    "\n",
    "scrape(2001)"
   ]
  }
 ],
 "metadata": {
  "kernelspec": {
   "display_name": "Python 3",
   "language": "python",
   "name": "python3"
  },
  "language_info": {
   "codemirror_mode": {
    "name": "ipython",
    "version": 3
   },
   "file_extension": ".py",
   "mimetype": "text/x-python",
   "name": "python",
   "nbconvert_exporter": "python",
   "pygments_lexer": "ipython3",
   "version": "3.11.9"
  }
 },
 "nbformat": 4,
 "nbformat_minor": 2
}
